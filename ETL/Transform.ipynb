{
 "cells": [
  {
   "cell_type": "code",
   "execution_count": 0,
   "metadata": {
    "application/vnd.databricks.v1+cell": {
     "cellMetadata": {
      "byteLimit": 2048000,
      "rowLimit": 10000
     },
     "inputWidgets": {},
     "nuid": "b7a53f95-cd28-4e26-8937-ef388ae10b13",
     "showTitle": false,
     "title": ""
    }
   },
   "outputs": [
    {
     "output_type": "display_data",
     "data": {
      "text/html": [
       "<style scoped>\n",
       "  .ansiout {\n",
       "    display: block;\n",
       "    unicode-bidi: embed;\n",
       "    white-space: pre-wrap;\n",
       "    word-wrap: break-word;\n",
       "    word-break: break-all;\n",
       "    font-family: \"Menlo\", \"Monaco\", \"Consolas\", \"Ubuntu Mono\", \"Source Code Pro\", monospace;\n",
       "    font-size: 13px;\n",
       "    color: #555;\n",
       "    margin-left: 4px;\n",
       "    line-height: 19px;\n",
       "  }\n",
       "</style>\n",
       "<div class=\"ansiout\"></div>"
      ]
     },
     "metadata": {
      "application/vnd.databricks.v1+output": {
       "addedWidgets": {},
       "arguments": {},
       "data": "<div class=\"ansiout\"></div>",
       "datasetInfos": [],
       "metadata": {},
       "removedWidgets": [],
       "type": "html"
      }
     },
     "output_type": "display_data"
    }
   ],
   "source": [
    "from pyspark.sql.types import *\n",
    "import pyspark.sql.functions as F\n",
    "from pyspark.sql.functions import *"
   ]
  },
  {
   "cell_type": "code",
   "execution_count": 0,
   "metadata": {
    "application/vnd.databricks.v1+cell": {
     "cellMetadata": {
      "byteLimit": 2048000,
      "rowLimit": 10000
     },
     "inputWidgets": {},
     "nuid": "1ad89754-70e1-48fb-9b2b-f991cbf261cf",
     "showTitle": false,
     "title": ""
    }
   },
   "outputs": [
    {
     "output_type": "display_data",
     "data": {
      "text/html": [
       "<style scoped>\n",
       "  .ansiout {\n",
       "    display: block;\n",
       "    unicode-bidi: embed;\n",
       "    white-space: pre-wrap;\n",
       "    word-wrap: break-word;\n",
       "    word-break: break-all;\n",
       "    font-family: \"Menlo\", \"Monaco\", \"Consolas\", \"Ubuntu Mono\", \"Source Code Pro\", monospace;\n",
       "    font-size: 13px;\n",
       "    color: #555;\n",
       "    margin-left: 4px;\n",
       "    line-height: 19px;\n",
       "  }\n",
       "</style>\n",
       "<div class=\"ansiout\"></div>"
      ]
     },
     "metadata": {
      "application/vnd.databricks.v1+output": {
       "addedWidgets": {},
       "arguments": {},
       "data": "<div class=\"ansiout\"></div>",
       "datasetInfos": [],
       "metadata": {},
       "removedWidgets": [],
       "type": "html"
      }
     },
     "output_type": "display_data"
    }
   ],
   "source": [
    "landing_path = '/mnt/proyect/landing/'\n",
    "bronze_path = '/mnt/proyect/bronze/'\n",
    "silver_path = '/mnt/proyect/silver/'\n",
    "gold_path = '/mnt/proyect/gold/'"
   ]
  },
  {
   "cell_type": "code",
   "execution_count": 0,
   "metadata": {
    "application/vnd.databricks.v1+cell": {
     "cellMetadata": {
      "byteLimit": 2048000,
      "rowLimit": 10000
     },
     "inputWidgets": {},
     "nuid": "20d8c38b-a0d8-469d-a6c3-734bb183fd24",
     "showTitle": false,
     "title": ""
    }
   },
   "outputs": [
    {
     "output_type": "display_data",
     "data": {
      "text/html": [
       "<style scoped>\n",
       "  .ansiout {\n",
       "    display: block;\n",
       "    unicode-bidi: embed;\n",
       "    white-space: pre-wrap;\n",
       "    word-wrap: break-word;\n",
       "    word-break: break-all;\n",
       "    font-family: \"Menlo\", \"Monaco\", \"Consolas\", \"Ubuntu Mono\", \"Source Code Pro\", monospace;\n",
       "    font-size: 13px;\n",
       "    color: #555;\n",
       "    margin-left: 4px;\n",
       "    line-height: 19px;\n",
       "  }\n",
       "</style>\n",
       "<div class=\"ansiout\"></div>"
      ]
     },
     "metadata": {
      "application/vnd.databricks.v1+output": {
       "addedWidgets": {},
       "arguments": {},
       "data": "<div class=\"ansiout\"></div>",
       "datasetInfos": [],
       "metadata": {},
       "removedWidgets": [],
       "type": "html"
      }
     },
     "output_type": "display_data"
    }
   ],
   "source": [
    "query = '''\n",
    "SELECT\n",
    "    customer_id, customer_fname, customer_lname, customer_email,\n",
    "    sum(order_item_quantity) as quantity_item_total,\n",
    "    sum(order_item_subtotal) as total\n",
    "FROM\n",
    "    delta.`{}/customers` as c\n",
    "INNER JOIN\n",
    "    delta.`{}/orders` as o\n",
    "    ON c.customer_id = o.order_customer_id\n",
    "INNER JOIN\n",
    "    delta.`{}/order_items` as oi\n",
    "    ON o.order_id = oi.order_item_order_id\n",
    "WHERE\n",
    "    order_status <> 'CANCELED'\n",
    "GROUP BY\n",
    "    customer_id, customer_fname, customer_lname, customer_email\n",
    "ORDER BY\n",
    "    total DESC\n",
    "LIMIT 20\n",
    "'''.format(bronze_path, bronze_path, bronze_path)\n",
    "\n",
    "statement1 = spark.sql(query)\n"
   ]
  },
  {
   "cell_type": "code",
   "execution_count": 0,
   "metadata": {
    "application/vnd.databricks.v1+cell": {
     "cellMetadata": {
      "byteLimit": 2048000,
      "rowLimit": 10000
     },
     "inputWidgets": {},
     "nuid": "2e72cdce-458a-4303-a272-ede0aa620c22",
     "showTitle": false,
     "title": ""
    }
   },
   "outputs": [
    {
     "output_type": "display_data",
     "data": {
      "text/html": [
       "<style scoped>\n",
       "  .table-result-container {\n",
       "    max-height: 300px;\n",
       "    overflow: auto;\n",
       "  }\n",
       "  table, th, td {\n",
       "    border: 1px solid black;\n",
       "    border-collapse: collapse;\n",
       "  }\n",
       "  th, td {\n",
       "    padding: 5px;\n",
       "  }\n",
       "  th {\n",
       "    text-align: left;\n",
       "  }\n",
       "</style><div class='table-result-container'><table class='table-result'><thead style='background-color: white'><tr><th>customer_id</th><th>customer_fname</th><th>customer_lname</th><th>customer_email</th><th>quantity_item_total</th><th>total</th></tr></thead><tbody><tr><td>791</td><td>Mary</td><td>Smith</td><td>XXXXXXXXX</td><td>82</td><td>10524.170177459717</td></tr><tr><td>8766</td><td>Mary</td><td>Duncan</td><td>XXXXXXXXX</td><td>87</td><td>9296.140186309814</td></tr><tr><td>1657</td><td>Betty</td><td>Phillips</td><td>XXXXXXXXX</td><td>111</td><td>9223.710151672363</td></tr><tr><td>2641</td><td>Betty</td><td>Spears</td><td>XXXXXXXXX</td><td>90</td><td>9130.920223236084</td></tr><tr><td>1288</td><td>Evelyn</td><td>Thompson</td><td>XXXXXXXXX</td><td>89</td><td>9019.11019897461</td></tr><tr><td>3710</td><td>Ashley</td><td>Smith</td><td>XXXXXXXXX</td><td>89</td><td>9019.10020828247</td></tr><tr><td>5654</td><td>Jerry</td><td>Smith</td><td>XXXXXXXXX</td><td>103</td><td>8904.950210571289</td></tr><tr><td>5624</td><td>Mary</td><td>Mata</td><td>XXXXXXXXX</td><td>89</td><td>8761.980182647705</td></tr><tr><td>5715</td><td>Kelly</td><td>Smith</td><td>XXXXXXXXX</td><td>99</td><td>8595.130157470703</td></tr><tr><td>664</td><td>Bobby</td><td>Jimenez</td><td>XXXXXXXXX</td><td>76</td><td>8394.260208129883</td></tr><tr><td>9371</td><td>Mary</td><td>Patterson</td><td>XXXXXXXXX</td><td>79</td><td>8359.140188217163</td></tr><tr><td>10351</td><td>Teresa</td><td>Gray</td><td>XXXXXXXXX</td><td>69</td><td>8339.260166168213</td></tr><tr><td>2292</td><td>Ashley</td><td>Smith</td><td>XXXXXXXXX</td><td>91</td><td>8293.04016494751</td></tr><tr><td>4663</td><td>Paul</td><td>Smith</td><td>XXXXXXXXX</td><td>91</td><td>8279.890161514282</td></tr><tr><td>3708</td><td>Judy</td><td>Miller</td><td>XXXXXXXXX</td><td>82</td><td>8275.09017944336</td></tr><tr><td>4249</td><td>Mary</td><td>Butler</td><td>XXXXXXXXX</td><td>87</td><td>8268.980131149292</td></tr><tr><td>12284</td><td>Mary</td><td>Smith</td><td>XXXXXXXXX</td><td>110</td><td>8258.620170593262</td></tr><tr><td>5927</td><td>Christopher</td><td>Cooper</td><td>XXXXXXXXX</td><td>82</td><td>8169.130199432373</td></tr><tr><td>5004</td><td>Dorothy</td><td>Friedman</td><td>XXXXXXXXX</td><td>114</td><td>8164.700141906738</td></tr><tr><td>1443</td><td>Denise</td><td>Cohen</td><td>XXXXXXXXX</td><td>86</td><td>8150.130157470703</td></tr></tbody></table></div>"
      ]
     },
     "metadata": {
      "application/vnd.databricks.v1+output": {
       "addedWidgets": {},
       "aggData": [],
       "aggError": "",
       "aggOverflow": false,
       "aggSchema": [],
       "aggSeriesLimitReached": false,
       "aggType": "",
       "arguments": {},
       "columnCustomDisplayInfos": {},
       "data": [
        [
         791,
         "Mary",
         "Smith",
         "XXXXXXXXX",
         82,
         10524.170177459717
        ],
        [
         8766,
         "Mary",
         "Duncan",
         "XXXXXXXXX",
         87,
         9296.140186309814
        ],
        [
         1657,
         "Betty",
         "Phillips",
         "XXXXXXXXX",
         111,
         9223.710151672363
        ],
        [
         2641,
         "Betty",
         "Spears",
         "XXXXXXXXX",
         90,
         9130.920223236084
        ],
        [
         1288,
         "Evelyn",
         "Thompson",
         "XXXXXXXXX",
         89,
         9019.11019897461
        ],
        [
         3710,
         "Ashley",
         "Smith",
         "XXXXXXXXX",
         89,
         9019.10020828247
        ],
        [
         5654,
         "Jerry",
         "Smith",
         "XXXXXXXXX",
         103,
         8904.950210571289
        ],
        [
         5624,
         "Mary",
         "Mata",
         "XXXXXXXXX",
         89,
         8761.980182647705
        ],
        [
         5715,
         "Kelly",
         "Smith",
         "XXXXXXXXX",
         99,
         8595.130157470703
        ],
        [
         664,
         "Bobby",
         "Jimenez",
         "XXXXXXXXX",
         76,
         8394.260208129883
        ],
        [
         9371,
         "Mary",
         "Patterson",
         "XXXXXXXXX",
         79,
         8359.140188217163
        ],
        [
         10351,
         "Teresa",
         "Gray",
         "XXXXXXXXX",
         69,
         8339.260166168213
        ],
        [
         2292,
         "Ashley",
         "Smith",
         "XXXXXXXXX",
         91,
         8293.04016494751
        ],
        [
         4663,
         "Paul",
         "Smith",
         "XXXXXXXXX",
         91,
         8279.890161514282
        ],
        [
         3708,
         "Judy",
         "Miller",
         "XXXXXXXXX",
         82,
         8275.09017944336
        ],
        [
         4249,
         "Mary",
         "Butler",
         "XXXXXXXXX",
         87,
         8268.980131149292
        ],
        [
         12284,
         "Mary",
         "Smith",
         "XXXXXXXXX",
         110,
         8258.620170593262
        ],
        [
         5927,
         "Christopher",
         "Cooper",
         "XXXXXXXXX",
         82,
         8169.130199432373
        ],
        [
         5004,
         "Dorothy",
         "Friedman",
         "XXXXXXXXX",
         114,
         8164.700141906738
        ],
        [
         1443,
         "Denise",
         "Cohen",
         "XXXXXXXXX",
         86,
         8150.130157470703
        ]
       ],
       "datasetInfos": [],
       "dbfsResultPath": null,
       "isJsonSchema": true,
       "metadata": {},
       "overflow": false,
       "plotOptions": {
        "customPlotOptions": {},
        "displayType": "table",
        "pivotAggregation": null,
        "pivotColumns": null,
        "xColumns": null,
        "yColumns": null
       },
       "removedWidgets": [],
       "schema": [
        {
         "metadata": "{}",
         "name": "customer_id",
         "type": "\"integer\""
        },
        {
         "metadata": "{}",
         "name": "customer_fname",
         "type": "\"string\""
        },
        {
         "metadata": "{}",
         "name": "customer_lname",
         "type": "\"string\""
        },
        {
         "metadata": "{}",
         "name": "customer_email",
         "type": "\"string\""
        },
        {
         "metadata": "{}",
         "name": "quantity_item_total",
         "type": "\"long\""
        },
        {
         "metadata": "{}",
         "name": "total",
         "type": "\"double\""
        }
       ],
       "type": "table"
      }
     },
     "output_type": "display_data"
    }
   ],
   "source": [
    "display(statement1)"
   ]
  },
  {
   "cell_type": "code",
   "execution_count": 0,
   "metadata": {
    "application/vnd.databricks.v1+cell": {
     "cellMetadata": {
      "byteLimit": 2048000,
      "rowLimit": 10000
     },
     "inputWidgets": {},
     "nuid": "4c0103cb-7a11-467e-940e-e80661114b6a",
     "showTitle": false,
     "title": ""
    }
   },
   "outputs": [],
   "source": [
    "statement1.write.mode(\"overwrite\").format(\"delta\").save(f\"{silver_path}/statement1\")"
   ]
  },
  {
   "cell_type": "code",
   "execution_count": 0,
   "metadata": {
    "application/vnd.databricks.v1+cell": {
     "cellMetadata": {
      "byteLimit": 2048000,
      "rowLimit": 10000
     },
     "inputWidgets": {},
     "nuid": "3b1fcc0c-bc4a-4ede-a8af-18af0b9ea309",
     "showTitle": false,
     "title": ""
    }
   },
   "outputs": [
    {
     "output_type": "display_data",
     "data": {
      "text/html": [
       "<style scoped>\n",
       "  .ansiout {\n",
       "    display: block;\n",
       "    unicode-bidi: embed;\n",
       "    white-space: pre-wrap;\n",
       "    word-wrap: break-word;\n",
       "    word-break: break-all;\n",
       "    font-family: \"Menlo\", \"Monaco\", \"Consolas\", \"Ubuntu Mono\", \"Source Code Pro\", monospace;\n",
       "    font-size: 13px;\n",
       "    color: #555;\n",
       "    margin-left: 4px;\n",
       "    line-height: 19px;\n",
       "  }\n",
       "</style>\n",
       "<div class=\"ansiout\"></div>"
      ]
     },
     "metadata": {
      "application/vnd.databricks.v1+output": {
       "addedWidgets": {},
       "arguments": {},
       "data": "<div class=\"ansiout\"></div>",
       "datasetInfos": [],
       "metadata": {},
       "removedWidgets": [],
       "type": "html"
      }
     },
     "output_type": "display_data"
    }
   ],
   "source": [
    "query = '''\n",
    "    SELECT\n",
    "                    ca.category_name, sum(order_item_quantity) as item_quantity, cast(sum(order_item_subtotal) AS INT )as total\n",
    "                FROM delta.`{}/order_items` as oi\n",
    "                INNER JOIN\n",
    "                    delta.`{}/products` as p\n",
    "                    ON oi.order_item_product_id = p.product_id\n",
    "                INNER JOIN\n",
    "                    delta.`{}/categories` as ca\n",
    "                    ON p.product_category_id = ca.category_id\n",
    "                GROUP BY ca.category_name\n",
    "'''.format(bronze_path, bronze_path, bronze_path)\n",
    "\n",
    "statement2 = spark.sql(query)"
   ]
  },
  {
   "cell_type": "code",
   "execution_count": 0,
   "metadata": {
    "application/vnd.databricks.v1+cell": {
     "cellMetadata": {
      "byteLimit": 2048000,
      "rowLimit": 10000
     },
     "inputWidgets": {},
     "nuid": "dc269811-ca77-4617-b306-4510c218bbc4",
     "showTitle": false,
     "title": ""
    }
   },
   "outputs": [
    {
     "output_type": "display_data",
     "data": {
      "text/html": [
       "<style scoped>\n",
       "  .table-result-container {\n",
       "    max-height: 300px;\n",
       "    overflow: auto;\n",
       "  }\n",
       "  table, th, td {\n",
       "    border: 1px solid black;\n",
       "    border-collapse: collapse;\n",
       "  }\n",
       "  th, td {\n",
       "    padding: 5px;\n",
       "  }\n",
       "  th {\n",
       "    text-align: left;\n",
       "  }\n",
       "</style><div class='table-result-container'><table class='table-result'><thead style='background-color: white'><tr><th>category_name</th><th>item_quantity</th><th>total</th></tr></thead><tbody><tr><td>Camping & Hiking</td><td>13729</td><td>4118425</td></tr><tr><td>Fitness Accessories</td><td>856</td><td>35601</td></tr><tr><td>Golf Shoes</td><td>1444</td><td>107998</td></tr><tr><td>Men's Footwear</td><td>22246</td><td>2891757</td></tr><tr><td>Electronics</td><td>9436</td><td>371034</td></tr><tr><td>Women's Apparel</td><td>62956</td><td>3147800</td></tr><tr><td>Girls' Apparel</td><td>3615</td><td>151706</td></tr><tr><td>Boxing & MMA</td><td>1265</td><td>85205</td></tr><tr><td>Baseball & Softball</td><td>1785</td><td>94057</td></tr><tr><td>Hunting & Shooting</td><td>1239</td><td>56848</td></tr><tr><td>Golf Apparel</td><td>1025</td><td>34969</td></tr><tr><td>Trade-In</td><td>2822</td><td>68721</td></tr><tr><td>Shop By Sport</td><td>32726</td><td>1309522</td></tr><tr><td>Fishing</td><td>17325</td><td>6929653</td></tr><tr><td>Water Sports</td><td>15540</td><td>3113844</td></tr><tr><td>Accessories</td><td>5349</td><td>133671</td></tr><tr><td>Golf Gloves</td><td>2961</td><td>116695</td></tr><tr><td>Cleats</td><td>73734</td><td>4431942</td></tr><tr><td>Golf Balls</td><td>4384</td><td>77098</td></tr><tr><td>Hockey</td><td>1711</td><td>48360</td></tr><tr><td>Lacrosse</td><td>1021</td><td>39464</td></tr><tr><td>Cardio Equipment</td><td>37587</td><td>3694843</td></tr><tr><td>Tennis & Racquet</td><td>991</td><td>44585</td></tr><tr><td>Indoor/Outdoor Games</td><td>57803</td><td>2888993</td></tr><tr><td>Men's Golf Clubs</td><td>420</td><td>47035</td></tr><tr><td>Basketball</td><td>67</td><td>27099</td></tr><tr><td>Golf Bags & Carts</td><td>61</td><td>10369</td></tr><tr><td>As Seen on  TV!</td><td>206</td><td>20597</td></tr><tr><td>Women's Golf Clubs</td><td>403</td><td>44545</td></tr><tr><td>Strength Training</td><td>111</td><td>54895</td></tr><tr><td>Soccer</td><td>295</td><td>26477</td></tr><tr><td>Kids' Golf Clubs</td><td>645</td><td>98797</td></tr></tbody></table></div>"
      ]
     },
     "metadata": {
      "application/vnd.databricks.v1+output": {
       "addedWidgets": {},
       "aggData": [],
       "aggError": "",
       "aggOverflow": false,
       "aggSchema": [],
       "aggSeriesLimitReached": false,
       "aggType": "",
       "arguments": {},
       "columnCustomDisplayInfos": {},
       "data": [
        [
         "Camping & Hiking",
         13729,
         4118425
        ],
        [
         "Fitness Accessories",
         856,
         35601
        ],
        [
         "Golf Shoes",
         1444,
         107998
        ],
        [
         "Men's Footwear",
         22246,
         2891757
        ],
        [
         "Electronics",
         9436,
         371034
        ],
        [
         "Women's Apparel",
         62956,
         3147800
        ],
        [
         "Girls' Apparel",
         3615,
         151706
        ],
        [
         "Boxing & MMA",
         1265,
         85205
        ],
        [
         "Baseball & Softball",
         1785,
         94057
        ],
        [
         "Hunting & Shooting",
         1239,
         56848
        ],
        [
         "Golf Apparel",
         1025,
         34969
        ],
        [
         "Trade-In",
         2822,
         68721
        ],
        [
         "Shop By Sport",
         32726,
         1309522
        ],
        [
         "Fishing",
         17325,
         6929653
        ],
        [
         "Water Sports",
         15540,
         3113844
        ],
        [
         "Accessories",
         5349,
         133671
        ],
        [
         "Golf Gloves",
         2961,
         116695
        ],
        [
         "Cleats",
         73734,
         4431942
        ],
        [
         "Golf Balls",
         4384,
         77098
        ],
        [
         "Hockey",
         1711,
         48360
        ],
        [
         "Lacrosse",
         1021,
         39464
        ],
        [
         "Cardio Equipment",
         37587,
         3694843
        ],
        [
         "Tennis & Racquet",
         991,
         44585
        ],
        [
         "Indoor/Outdoor Games",
         57803,
         2888993
        ],
        [
         "Men's Golf Clubs",
         420,
         47035
        ],
        [
         "Basketball",
         67,
         27099
        ],
        [
         "Golf Bags & Carts",
         61,
         10369
        ],
        [
         "As Seen on  TV!",
         206,
         20597
        ],
        [
         "Women's Golf Clubs",
         403,
         44545
        ],
        [
         "Strength Training",
         111,
         54895
        ],
        [
         "Soccer",
         295,
         26477
        ],
        [
         "Kids' Golf Clubs",
         645,
         98797
        ]
       ],
       "datasetInfos": [],
       "dbfsResultPath": null,
       "isJsonSchema": true,
       "metadata": {},
       "overflow": false,
       "plotOptions": {
        "customPlotOptions": {},
        "displayType": "table",
        "pivotAggregation": null,
        "pivotColumns": null,
        "xColumns": null,
        "yColumns": null
       },
       "removedWidgets": [],
       "schema": [
        {
         "metadata": "{}",
         "name": "category_name",
         "type": "\"string\""
        },
        {
         "metadata": "{}",
         "name": "item_quantity",
         "type": "\"long\""
        },
        {
         "metadata": "{}",
         "name": "total",
         "type": "\"integer\""
        }
       ],
       "type": "table"
      }
     },
     "output_type": "display_data"
    }
   ],
   "source": [
    "display(statement2)"
   ]
  },
  {
   "cell_type": "code",
   "execution_count": 0,
   "metadata": {
    "application/vnd.databricks.v1+cell": {
     "cellMetadata": {
      "byteLimit": 2048000,
      "rowLimit": 10000
     },
     "inputWidgets": {},
     "nuid": "d964865e-cb63-4c15-85a8-7848585b688f",
     "showTitle": false,
     "title": ""
    }
   },
   "outputs": [],
   "source": [
    "statement2.write.mode(\"overwrite\").format(\"delta\").save(f\"{silver_path}/statement2\")"
   ]
  },
  {
   "cell_type": "code",
   "execution_count": 0,
   "metadata": {
    "application/vnd.databricks.v1+cell": {
     "cellMetadata": {
      "byteLimit": 2048000,
      "rowLimit": 10000
     },
     "inputWidgets": {},
     "nuid": "316c2fac-9dfe-44fc-9f2d-0f2667836491",
     "showTitle": false,
     "title": ""
    }
   },
   "outputs": [
    {
     "output_type": "display_data",
     "data": {
      "text/html": [
       "<style scoped>\n",
       "  .ansiout {\n",
       "    display: block;\n",
       "    unicode-bidi: embed;\n",
       "    white-space: pre-wrap;\n",
       "    word-wrap: break-word;\n",
       "    word-break: break-all;\n",
       "    font-family: \"Menlo\", \"Monaco\", \"Consolas\", \"Ubuntu Mono\", \"Source Code Pro\", monospace;\n",
       "    font-size: 13px;\n",
       "    color: #555;\n",
       "    margin-left: 4px;\n",
       "    line-height: 19px;\n",
       "  }\n",
       "</style>\n",
       "<div class=\"ansiout\"></div>"
      ]
     },
     "metadata": {
      "application/vnd.databricks.v1+output": {
       "addedWidgets": {},
       "arguments": {},
       "data": "<div class=\"ansiout\"></div>",
       "datasetInfos": [],
       "metadata": {},
       "removedWidgets": [],
       "type": "html"
      }
     },
     "output_type": "display_data"
    }
   ],
   "source": [
    "#revisado revisado  vi que quantity no estaba siendo mapeado \n",
    "query = '''\n",
    "    SELECT\n",
    "                customer_city, category_name\n",
    "                FROM (SELECT\n",
    "                    customer_city, category_name, count(category_name) as quantity, DENSE_RANK () OVER ( \n",
    "                                PARTITION BY customer_city \n",
    "                                ORDER BY count(category_name) DESC\n",
    "                            ) rank\n",
    "                    FROM\n",
    "                        delta.`{}/customers` as c\n",
    "                    INNER JOIN\n",
    "                        delta.`{}/orders` as o\n",
    "                        ON c.customer_id = o.order_customer_id\n",
    "                    INNER JOIN\n",
    "                        delta.`{}/order_items` as oi\n",
    "                        ON o.order_id = oi.order_item_order_id\n",
    "                    INNER JOIN\n",
    "                        delta.`{}/products` as p\n",
    "                        ON oi.order_item_product_id = p.product_id\n",
    "                    INNER JOIN\n",
    "                        delta.`{}/categories` as ca\n",
    "                        ON p.product_category_id = ca.category_id\n",
    "                    GROUP BY customer_city, category_name\n",
    "                    ) t\n",
    "            WHERE rank = 1\n",
    "'''.format(bronze_path, bronze_path, bronze_path, bronze_path, bronze_path)\n",
    "\n",
    "statement3 = spark.sql(query)"
   ]
  },
  {
   "cell_type": "code",
   "execution_count": 0,
   "metadata": {
    "application/vnd.databricks.v1+cell": {
     "cellMetadata": {
      "byteLimit": 2048000,
      "rowLimit": 10000
     },
     "inputWidgets": {},
     "nuid": "2f10d854-f579-4f59-81d5-ba77ece84331",
     "showTitle": false,
     "title": ""
    }
   },
   "outputs": [
    {
     "output_type": "display_data",
     "data": {
      "text/html": [
       "<style scoped>\n",
       "  .table-result-container {\n",
       "    max-height: 300px;\n",
       "    overflow: auto;\n",
       "  }\n",
       "  table, th, td {\n",
       "    border: 1px solid black;\n",
       "    border-collapse: collapse;\n",
       "  }\n",
       "  th, td {\n",
       "    padding: 5px;\n",
       "  }\n",
       "  th {\n",
       "    text-align: left;\n",
       "  }\n",
       "</style><div class='table-result-container'><table class='table-result'><thead style='background-color: white'><tr><th>customer_city</th><th>category_name</th></tr></thead><tbody><tr><td>Aguadilla</td><td>Cleats</td></tr><tr><td>Alameda</td><td>Cleats</td></tr><tr><td>Albany</td><td>Women's Apparel</td></tr><tr><td>Albuquerque</td><td>Cleats</td></tr><tr><td>Algonquin</td><td>Cleats</td></tr><tr><td>Alhambra</td><td>Women's Apparel</td></tr><tr><td>Allentown</td><td>Cleats</td></tr><tr><td>Alpharetta</td><td>Men's Footwear</td></tr><tr><td>Amarillo</td><td>Cleats</td></tr><tr><td>Amarillo</td><td>Indoor/Outdoor Games</td></tr><tr><td>Anaheim</td><td>Women's Apparel</td></tr><tr><td>Ann Arbor</td><td>Women's Apparel</td></tr><tr><td>Annandale</td><td>Men's Footwear</td></tr><tr><td>Annapolis</td><td>Men's Footwear</td></tr><tr><td>Antioch</td><td>Indoor/Outdoor Games</td></tr><tr><td>Apex</td><td>Cleats</td></tr><tr><td>Apopka</td><td>Fishing</td></tr><tr><td>Arecibo</td><td>Women's Apparel</td></tr><tr><td>Arlington</td><td>Women's Apparel</td></tr><tr><td>Arlington Heights</td><td>Women's Apparel</td></tr><tr><td>Asheboro</td><td>Women's Apparel</td></tr><tr><td>Astoria</td><td>Men's Footwear</td></tr><tr><td>Atlanta</td><td>Men's Footwear</td></tr><tr><td>Augusta</td><td>Indoor/Outdoor Games</td></tr><tr><td>Augusta</td><td>Men's Footwear</td></tr><tr><td>Aurora</td><td>Cleats</td></tr><tr><td>Austin</td><td>Men's Footwear</td></tr><tr><td>Azusa</td><td>Women's Apparel</td></tr><tr><td>Bakersfield</td><td>Women's Apparel</td></tr><tr><td>Baldwin Park</td><td>Cleats</td></tr><tr><td>Ballwin</td><td>Indoor/Outdoor Games</td></tr><tr><td>Ballwin</td><td>Water Sports</td></tr><tr><td>Baltimore</td><td>Cleats</td></tr><tr><td>Bartlett</td><td>Cleats</td></tr><tr><td>Bay Shore</td><td>Women's Apparel</td></tr><tr><td>Bayamon</td><td>Cleats</td></tr><tr><td>Bayonne</td><td>Cleats</td></tr><tr><td>Baytown</td><td>Women's Apparel</td></tr><tr><td>Beaverton</td><td>Men's Footwear</td></tr><tr><td>Bell Gardens</td><td>Indoor/Outdoor Games</td></tr><tr><td>Bellflower</td><td>Indoor/Outdoor Games</td></tr><tr><td>Bellflower</td><td>Cleats</td></tr><tr><td>Bellflower</td><td>Fishing</td></tr><tr><td>Bellingham</td><td>Women's Apparel</td></tr><tr><td>Bellingham</td><td>Indoor/Outdoor Games</td></tr><tr><td>Beloit</td><td>Men's Footwear</td></tr><tr><td>Beloit</td><td>Fishing</td></tr><tr><td>Bend</td><td>Men's Footwear</td></tr><tr><td>Bensalem</td><td>Fishing</td></tr><tr><td>Berwyn</td><td>Cleats</td></tr><tr><td>Billings</td><td>Indoor/Outdoor Games</td></tr><tr><td>Birmingham</td><td>Fishing</td></tr><tr><td>Birmingham</td><td>Water Sports</td></tr><tr><td>Bismarck</td><td>Cleats</td></tr><tr><td>Blacksburg</td><td>Men's Footwear</td></tr><tr><td>Bloomfield</td><td>Cleats</td></tr><tr><td>Bolingbrook</td><td>Men's Footwear</td></tr><tr><td>Bountiful</td><td>Cleats</td></tr><tr><td>Bowling Green</td><td>Cleats</td></tr><tr><td>Brandon</td><td>Men's Footwear</td></tr><tr><td>Brentwood</td><td>Cleats</td></tr><tr><td>Bridgeton</td><td>Men's Footwear</td></tr><tr><td>Brighton</td><td>Water Sports</td></tr><tr><td>Bristol</td><td>Fishing</td></tr><tr><td>Brockton</td><td>Cleats</td></tr><tr><td>Broken Arrow</td><td>Men's Footwear</td></tr><tr><td>Bronx</td><td>Cleats</td></tr><tr><td>Brooklyn</td><td>Cleats</td></tr><tr><td>Broomfield</td><td>Indoor/Outdoor Games</td></tr><tr><td>Brownsville</td><td>Women's Apparel</td></tr><tr><td>Buena Park</td><td>Indoor/Outdoor Games</td></tr><tr><td>Buffalo</td><td>Cleats</td></tr><tr><td>Burnsville</td><td>Fishing</td></tr><tr><td>Caguas</td><td>Cleats</td></tr><tr><td>Campbell</td><td>Cleats</td></tr><tr><td>Canoga Park</td><td>Cleats</td></tr><tr><td>Canovanas</td><td>Women's Apparel</td></tr><tr><td>Canton</td><td>Men's Footwear</td></tr><tr><td>Canyon Country</td><td>Women's Apparel</td></tr><tr><td>Carlisle</td><td>Cleats</td></tr><tr><td>Carlisle</td><td>Men's Footwear</td></tr><tr><td>Carlsbad</td><td>Cleats</td></tr><tr><td>Carmichael</td><td>Fishing</td></tr><tr><td>Carmichael</td><td>Men's Footwear</td></tr><tr><td>Carmichael</td><td>Women's Apparel</td></tr><tr><td>Carol Stream</td><td>Cleats</td></tr><tr><td>Carolina</td><td>Men's Footwear</td></tr><tr><td>Carrollton</td><td>Cleats</td></tr><tr><td>Carson</td><td>Cleats</td></tr><tr><td>Cary</td><td>Cleats</td></tr><tr><td>Catonsville</td><td>Cleats</td></tr><tr><td>Cayey</td><td>Indoor/Outdoor Games</td></tr><tr><td>Cerritos</td><td>Cleats</td></tr><tr><td>Chambersburg</td><td>Cleats</td></tr><tr><td>Chandler</td><td>Cleats</td></tr><tr><td>Chandler</td><td>Men's Footwear</td></tr><tr><td>Chapel Hill</td><td>Cleats</td></tr><tr><td>Charlotte</td><td>Cleats</td></tr><tr><td>Chesapeake</td><td>Cleats</td></tr><tr><td>Chicago</td><td>Cleats</td></tr><tr><td>Chicago Heights</td><td>Fishing</td></tr><tr><td>Chicago Heights</td><td>Cleats</td></tr><tr><td>Chillicothe</td><td>Cleats</td></tr><tr><td>Chillicothe</td><td>Fishing</td></tr><tr><td>Chino</td><td>Women's Apparel</td></tr><tr><td>Chino Hills</td><td>Women's Apparel</td></tr><tr><td>Chula Vista</td><td>Men's Footwear</td></tr><tr><td>Cicero</td><td>Cleats</td></tr><tr><td>Cincinnati</td><td>Cleats</td></tr><tr><td>Citrus Heights</td><td>Women's Apparel</td></tr><tr><td>Clarksville</td><td>Cleats</td></tr><tr><td>Clearfield</td><td>Fishing</td></tr><tr><td>Clementon</td><td>Indoor/Outdoor Games</td></tr><tr><td>Clementon</td><td>Women's Apparel</td></tr><tr><td>Cleveland</td><td>Cleats</td></tr><tr><td>Clovis</td><td>Indoor/Outdoor Games</td></tr><tr><td>College Station</td><td>Women's Apparel</td></tr><tr><td>Colorado Springs</td><td>Men's Footwear</td></tr><tr><td>Colorado Springs</td><td>Cleats</td></tr><tr><td>Colton</td><td>Cleats</td></tr><tr><td>Columbia</td><td>Cleats</td></tr><tr><td>Columbus</td><td>Men's Footwear</td></tr><tr><td>Compton</td><td>Men's Footwear</td></tr><tr><td>Conway</td><td>Men's Footwear</td></tr><tr><td>Cordova</td><td>Men's Footwear</td></tr><tr><td>Corona</td><td>Cleats</td></tr><tr><td>Costa Mesa</td><td>Cleats</td></tr><tr><td>Crown Point</td><td>Men's Footwear</td></tr><tr><td>Crystal Lake</td><td>Water Sports</td></tr><tr><td>Crystal Lake</td><td>Cleats</td></tr><tr><td>Cumberland</td><td>Men's Footwear</td></tr><tr><td>Cupertino</td><td>Cleats</td></tr><tr><td>Cypress</td><td>Cleats</td></tr><tr><td>Dallas</td><td>Cleats</td></tr><tr><td>Daly City</td><td>Men's Footwear</td></tr><tr><td>Danbury</td><td>Fishing</td></tr><tr><td>Davis</td><td>Women's Apparel</td></tr><tr><td>Davis</td><td>Cleats</td></tr><tr><td>Dayton</td><td>Indoor/Outdoor Games</td></tr><tr><td>Dearborn</td><td>Cleats</td></tr><tr><td>Decatur</td><td>Cleats</td></tr><tr><td>Decatur</td><td>Women's Apparel</td></tr><tr><td>Del Rio</td><td>Cleats</td></tr><tr><td>Denton</td><td>Water Sports</td></tr><tr><td>Denver</td><td>Cleats</td></tr><tr><td>Des Plaines</td><td>Fishing</td></tr><tr><td>Detroit</td><td>Men's Footwear</td></tr><tr><td>Diamond Bar</td><td>Indoor/Outdoor Games</td></tr><tr><td>Dorchester Center</td><td>Cleats</td></tr><tr><td>Douglasville</td><td>Fishing</td></tr><tr><td>Doylestown</td><td>Indoor/Outdoor Games</td></tr><tr><td>Dubuque</td><td>Cleats</td></tr><tr><td>Dubuque</td><td>Fishing</td></tr><tr><td>Dubuque</td><td>Men's Footwear</td></tr><tr><td>Duluth</td><td>Cleats</td></tr><tr><td>Duluth</td><td>Water Sports</td></tr><tr><td>Dundalk</td><td>Cleats</td></tr><tr><td>Eagle Pass</td><td>Water Sports</td></tr><tr><td>Eagle Pass</td><td>Women's Apparel</td></tr><tr><td>East Brunswick</td><td>Indoor/Outdoor Games</td></tr><tr><td>East Lansing</td><td>Women's Apparel</td></tr><tr><td>Edinburg</td><td>Cleats</td></tr><tr><td>Edison</td><td>Men's Footwear</td></tr><tr><td>El Cajon</td><td>Men's Footwear</td></tr><tr><td>El Centro</td><td>Cleats</td></tr><tr><td>El Monte</td><td>Indoor/Outdoor Games</td></tr><tr><td>El Paso</td><td>Men's Footwear</td></tr><tr><td>Elgin</td><td>Cleats</td></tr><tr><td>Elk Grove</td><td>Cleats</td></tr><tr><td>Elmhurst</td><td>Men's Footwear</td></tr><tr><td>Elyria</td><td>Cleats</td></tr><tr><td>Encinitas</td><td>Cleats</td></tr><tr><td>Encinitas</td><td>Indoor/Outdoor Games</td></tr><tr><td>Endicott</td><td>Women's Apparel</td></tr><tr><td>Enfield</td><td>Indoor/Outdoor Games</td></tr><tr><td>Englewood</td><td>Women's Apparel</td></tr><tr><td>Escondido</td><td>Women's Apparel</td></tr><tr><td>Eugene</td><td>Women's Apparel</td></tr><tr><td>Everett</td><td>Cleats</td></tr><tr><td>Ewa Beach</td><td>Cleats</td></tr><tr><td>Fairfield</td><td>Fishing</td></tr><tr><td>Far Rockaway</td><td>Men's Footwear</td></tr><tr><td>Fargo</td><td>Indoor/Outdoor Games</td></tr><tr><td>Fargo</td><td>Fishing</td></tr><tr><td>Fargo</td><td>Women's Apparel</td></tr><tr><td>Fargo</td><td>Cleats</td></tr><tr><td>Fayetteville</td><td>Cleats</td></tr><tr><td>Federal Way</td><td>Cleats</td></tr><tr><td>Findlay</td><td>Men's Footwear</td></tr><tr><td>Florissant</td><td>Men's Footwear</td></tr><tr><td>Flushing</td><td>Fishing</td></tr><tr><td>Folsom</td><td>Cleats</td></tr><tr><td>Fond Du Lac</td><td>Cleats</td></tr><tr><td>Fontana</td><td>Men's Footwear</td></tr><tr><td>Forest Hills</td><td>Indoor/Outdoor Games</td></tr><tr><td>Fort Lauderdale</td><td>Cleats</td></tr><tr><td>Fort Washington</td><td>Cleats</td></tr><tr><td>Fort Worth</td><td>Cleats</td></tr><tr><td>Fountain Valley</td><td>Women's Apparel</td></tr><tr><td>Frankfort</td><td>Cleats</td></tr><tr><td>Freehold</td><td>Women's Apparel</td></tr><tr><td>Freeport</td><td>Men's Footwear</td></tr><tr><td>Fremont</td><td>Fishing</td></tr><tr><td>Fresno</td><td>Women's Apparel</td></tr><tr><td>Fullerton</td><td>Cleats</td></tr><tr><td>Gaithersburg</td><td>Cleats</td></tr><tr><td>Garden Grove</td><td>Indoor/Outdoor Games</td></tr><tr><td>Gardena</td><td>Men's Footwear</td></tr><tr><td>Garland</td><td>Men's Footwear</td></tr><tr><td>Germantown</td><td>Men's Footwear</td></tr><tr><td>Gilroy</td><td>Men's Footwear</td></tr><tr><td>Glen Burnie</td><td>Men's Footwear</td></tr><tr><td>Glen Burnie</td><td>Cleats</td></tr><tr><td>Glen Burnie</td><td>Indoor/Outdoor Games</td></tr><tr><td>Glendale</td><td>Cleats</td></tr><tr><td>Glenview</td><td>Cleats</td></tr><tr><td>Goleta</td><td>Cleats</td></tr><tr><td>Goose Creek</td><td>Cleats</td></tr><tr><td>Granada Hills</td><td>Women's Apparel</td></tr><tr><td>Granada Hills</td><td>Cleats</td></tr><tr><td>Grand Prairie</td><td>Cleats</td></tr><tr><td>Granite City</td><td>Men's Footwear</td></tr><tr><td>Granite City</td><td>Cleats</td></tr><tr><td>Greeley</td><td>Men's Footwear</td></tr><tr><td>Greensboro</td><td>Cleats</td></tr><tr><td>Greensburg</td><td>Women's Apparel</td></tr><tr><td>Greenville</td><td>Cleats</td></tr><tr><td>Grove City</td><td>Women's Apparel</td></tr><tr><td>Guayama</td><td>Fishing</td></tr><tr><td>Guaynabo</td><td>Men's Footwear</td></tr><tr><td>Guaynabo</td><td>Camping & Hiking</td></tr><tr><td>Gwynn Oak</td><td>Cleats</td></tr><tr><td>Hacienda Heights</td><td>Indoor/Outdoor Games</td></tr><tr><td>Hacienda Heights</td><td>Fishing</td></tr><tr><td>Hagerstown</td><td>Indoor/Outdoor Games</td></tr><tr><td>Hamilton</td><td>Men's Footwear</td></tr><tr><td>Hampton</td><td>Cleats</td></tr><tr><td>Hamtramck</td><td>Men's Footwear</td></tr><tr><td>Hamtramck</td><td>Indoor/Outdoor Games</td></tr><tr><td>Hanford</td><td>Cleats</td></tr><tr><td>Hanover</td><td>Women's Apparel</td></tr><tr><td>Harlingen</td><td>Water Sports</td></tr><tr><td>Harvey</td><td>Cleats</td></tr><tr><td>Hawthorne</td><td>Cleats</td></tr><tr><td>Hayward</td><td>Men's Footwear</td></tr><tr><td>Hempstead</td><td>Men's Footwear</td></tr><tr><td>Henderson</td><td>Fishing</td></tr><tr><td>Hendersonville</td><td>Women's Apparel</td></tr><tr><td>Henrico</td><td>Women's Apparel</td></tr><tr><td>Henrico</td><td>Men's Footwear</td></tr><tr><td>Hesperia</td><td>Cleats</td></tr><tr><td>Hesperia</td><td>Women's Apparel</td></tr><tr><td>Hesperia</td><td>Men's Footwear</td></tr><tr><td>Hialeah</td><td>Cleats</td></tr><tr><td>Hickory</td><td>Cleats</td></tr><tr><td>Highland</td><td>Cleats</td></tr><tr><td>Highland Park</td><td>Cleats</td></tr><tr><td>Hilliard</td><td>Men's Footwear</td></tr><tr><td>Holland</td><td>Men's Footwear</td></tr><tr><td>Hollister</td><td>Men's Footwear</td></tr><tr><td>Hollywood</td><td>Cleats</td></tr><tr><td>Honolulu</td><td>Men's Footwear</td></tr><tr><td>Houston</td><td>Cleats</td></tr><tr><td>Howell</td><td>Women's Apparel</td></tr><tr><td>Humacao</td><td>Cleats</td></tr><tr><td>Huntington Beach</td><td>Men's Footwear</td></tr><tr><td>Huntington Park</td><td>Men's Footwear</td></tr><tr><td>Huntington Station</td><td>Cleats</td></tr><tr><td>Hyattsville</td><td>Men's Footwear</td></tr><tr><td>Indianapolis</td><td>Cleats</td></tr><tr><td>Indio</td><td>Fishing</td></tr><tr><td>Irving</td><td>Men's Footwear</td></tr><tr><td>Irvington</td><td>Fishing</td></tr><tr><td>Irvington</td><td>Men's Footwear</td></tr><tr><td>Irwin</td><td>Men's Footwear</td></tr><tr><td>Ithaca</td><td>Men's Footwear</td></tr><tr><td>Jackson</td><td>Water Sports</td></tr><tr><td>Jackson Heights</td><td>Cleats</td></tr><tr><td>Jacksonville</td><td>Women's Apparel</td></tr><tr><td>Jacksonville</td><td>Cleats</td></tr><tr><td>Jamaica</td><td>Cleats</td></tr><tr><td>Jersey City</td><td>Cleats</td></tr><tr><td>Joliet</td><td>Men's Footwear</td></tr><tr><td>Jonesboro</td><td>Cleats</td></tr><tr><td>Juana Diaz</td><td>Men's Footwear</td></tr><tr><td>Kailua</td><td>Cleats</td></tr><tr><td>Kaneohe</td><td>Women's Apparel</td></tr><tr><td>Katy</td><td>Cleats</td></tr><tr><td>Kenner</td><td>Fishing</td></tr><tr><td>Kent</td><td>Cleats</td></tr><tr><td>Knoxville</td><td>Women's Apparel</td></tr><tr><td>La Crosse</td><td>Women's Apparel</td></tr><tr><td>La Habra</td><td>Water Sports</td></tr><tr><td>La Mesa</td><td>Men's Footwear</td></tr><tr><td>La Mirada</td><td>Men's Footwear</td></tr><tr><td>La Puente</td><td>Women's Apparel</td></tr><tr><td>Laguna Hills</td><td>Women's Apparel</td></tr><tr><td>Laguna Niguel</td><td>Cleats</td></tr><tr><td>Lake Forest</td><td>Cleats</td></tr><tr><td>Lakewood</td><td>Men's Footwear</td></tr><tr><td>Lancaster</td><td>Women's Apparel</td></tr><tr><td>Lansdale</td><td>Cleats</td></tr><tr><td>Laredo</td><td>Women's Apparel</td></tr><tr><td>Las Cruces</td><td>Cleats</td></tr><tr><td>Las Vegas</td><td>Men's Footwear</td></tr><tr><td>Lawrence</td><td>Women's Apparel</td></tr><tr><td>Lawrence</td><td>Cleats</td></tr><tr><td>Lawrenceville</td><td>Indoor/Outdoor Games</td></tr><tr><td>Lawton</td><td>Women's Apparel</td></tr><tr><td>Lenoir</td><td>Men's Footwear</td></tr><tr><td>Levittown</td><td>Cleats</td></tr><tr><td>Lewisville</td><td>Indoor/Outdoor Games</td></tr><tr><td>Lewisville</td><td>Women's Apparel</td></tr><tr><td>Lilburn</td><td>Cleats</td></tr><tr><td>Lindenhurst</td><td>Women's Apparel</td></tr><tr><td>Lindenhurst</td><td>Cleats</td></tr><tr><td>Lithonia</td><td>Cleats</td></tr><tr><td>Littleton</td><td>Women's Apparel</td></tr><tr><td>Livermore</td><td>Cleats</td></tr><tr><td>Lockport</td><td>Men's Footwear</td></tr><tr><td>Lodi</td><td>Cleats</td></tr><tr><td>Lombard</td><td>Men's Footwear</td></tr><tr><td>Lompoc</td><td>Indoor/Outdoor Games</td></tr><tr><td>Long Beach</td><td>Cleats</td></tr><tr><td>Longmont</td><td>Men's Footwear</td></tr><tr><td>Longview</td><td>Men's Footwear</td></tr><tr><td>Los Angeles</td><td>Cleats</td></tr><tr><td>Louisville</td><td>Cleats</td></tr><tr><td>Loveland</td><td>Women's Apparel</td></tr><tr><td>Lutz</td><td>Cleats</td></tr><tr><td>Lynn</td><td>Cleats</td></tr><tr><td>Lynnwood</td><td>Cleats</td></tr><tr><td>Lynwood</td><td>Women's Apparel</td></tr><tr><td>Madera</td><td>Fishing</td></tr><tr><td>Madison</td><td>Cleats</td></tr><tr><td>Madison</td><td>Men's Footwear</td></tr><tr><td>Malden</td><td>Men's Footwear</td></tr><tr><td>Manati</td><td>Women's Apparel</td></tr><tr><td>Manchester</td><td>Fishing</td></tr><tr><td>Manchester</td><td>Women's Apparel</td></tr><tr><td>Marietta</td><td>Cleats</td></tr><tr><td>Marietta</td><td>Women's Apparel</td></tr><tr><td>Marion</td><td>Cleats</td></tr><tr><td>Marrero</td><td>Cleats</td></tr><tr><td>Martinez</td><td>Men's Footwear</td></tr><tr><td>Martinsburg</td><td>Cleats</td></tr><tr><td>Massapequa</td><td>Indoor/Outdoor Games</td></tr><tr><td>Massillon</td><td>Men's Footwear</td></tr><tr><td>Mayaguez</td><td>Cleats</td></tr><tr><td>Mcallen</td><td>Cleats</td></tr><tr><td>Mchenry</td><td>Cleats</td></tr><tr><td>Mechanicsburg</td><td>Women's Apparel</td></tr><tr><td>Mechanicsburg</td><td>Cleats</td></tr><tr><td>Medford</td><td>Women's Apparel</td></tr><tr><td>Medina</td><td>Women's Apparel</td></tr><tr><td>Memphis</td><td>Cleats</td></tr><tr><td>Mentor</td><td>Women's Apparel</td></tr><tr><td>Mentor</td><td>Men's Footwear</td></tr><tr><td>Merced</td><td>Camping & Hiking</td></tr><tr><td>Merced</td><td>Cleats</td></tr><tr><td>Meridian</td><td>Cleats</td></tr><tr><td>Mesa</td><td>Women's Apparel</td></tr><tr><td>Mesquite</td><td>Cleats</td></tr><tr><td>Metairie</td><td>Men's Footwear</td></tr><tr><td>Methuen</td><td>Cleats</td></tr><tr><td>Miami</td><td>Cleats</td></tr><tr><td>Michigan City</td><td>Indoor/Outdoor Games</td></tr><tr><td>Middletown</td><td>Indoor/Outdoor Games</td></tr><tr><td>Milford</td><td>Cleats</td></tr><tr><td>Mililani</td><td>Women's Apparel</td></tr><tr><td>Milpitas</td><td>Cleats</td></tr><tr><td>Milwaukee</td><td>Men's Footwear</td></tr><tr><td>Mission</td><td>Men's Footwear</td></tr><tr><td>Mission</td><td>Cleats</td></tr><tr><td>Mission Viejo</td><td>Men's Footwear</td></tr><tr><td>Modesto</td><td>Women's Apparel</td></tr><tr><td>Modesto</td><td>Men's Footwear</td></tr><tr><td>Modesto</td><td>Cleats</td></tr><tr><td>Moline</td><td>Men's Footwear</td></tr><tr><td>Montebello</td><td>Cleats</td></tr><tr><td>Moreno Valley</td><td>Women's Apparel</td></tr><tr><td>Morganton</td><td>Water Sports</td></tr><tr><td>Morganton</td><td>Cleats</td></tr><tr><td>Morganton</td><td>Fishing</td></tr><tr><td>Morganton</td><td>Women's Apparel</td></tr><tr><td>Morganton</td><td>Shop By Sport</td></tr><tr><td>Morristown</td><td>Men's Footwear</td></tr><tr><td>Morrisville</td><td>Men's Footwear</td></tr><tr><td>Mount Pleasant</td><td>Cleats</td></tr><tr><td>Mount Pleasant</td><td>Fishing</td></tr><tr><td>Mount Prospect</td><td>Cleats</td></tr><tr><td>Murfreesboro</td><td>Men's Footwear</td></tr><tr><td>Murfreesboro</td><td>Cleats</td></tr><tr><td>Muskegon</td><td>Fishing</td></tr><tr><td>Napa</td><td>Men's Footwear</td></tr><tr><td>Nashville</td><td>Indoor/Outdoor Games</td></tr><tr><td>National City</td><td>Men's Footwear</td></tr><tr><td>National City</td><td>Cardio Equipment</td></tr><tr><td>New Albany</td><td>Men's Footwear</td></tr><tr><td>New Albany</td><td>Fishing</td></tr><tr><td>New Bedford</td><td>Women's Apparel</td></tr><tr><td>New Braunfels</td><td>Men's Footwear</td></tr><tr><td>New Brunswick</td><td>Indoor/Outdoor Games</td></tr><tr><td>New Castle</td><td>Men's Footwear</td></tr><tr><td>New Haven</td><td>Cleats</td></tr><tr><td>New Orleans</td><td>Men's Footwear</td></tr><tr><td>New York</td><td>Cleats</td></tr><tr><td>Newark</td><td>Cleats</td></tr><tr><td>Newburgh</td><td>Women's Apparel</td></tr><tr><td>Norcross</td><td>Men's Footwear</td></tr><tr><td>Norfolk</td><td>Cleats</td></tr><tr><td>Normal</td><td>Water Sports</td></tr><tr><td>North Bergen</td><td>Men's Footwear</td></tr><tr><td>North Hills</td><td>Cleats</td></tr><tr><td>North Hollywood</td><td>Cleats</td></tr><tr><td>North Las Vegas</td><td>Fishing</td></tr><tr><td>North Richland Hills</td><td>Indoor/Outdoor Games</td></tr><tr><td>North Tonawanda</td><td>Men's Footwear</td></tr><tr><td>Norwalk</td><td>Women's Apparel</td></tr><tr><td>O Fallon</td><td>Men's Footwear</td></tr><tr><td>Oak Lawn</td><td>Cleats</td></tr><tr><td>Oakland</td><td>Women's Apparel</td></tr><tr><td>Oceanside</td><td>Men's Footwear</td></tr><tr><td>Ogden</td><td>Cleats</td></tr><tr><td>Olathe</td><td>Women's Apparel</td></tr><tr><td>Ontario</td><td>Men's Footwear</td></tr><tr><td>Opa Locka</td><td>Cleats</td></tr><tr><td>Opelousas</td><td>Cleats</td></tr><tr><td>Orange Park</td><td>Men's Footwear</td></tr><tr><td>Oregon City</td><td>Indoor/Outdoor Games</td></tr><tr><td>Orlando</td><td>Cleats</td></tr><tr><td>Oviedo</td><td>Indoor/Outdoor Games</td></tr><tr><td>Oxnard</td><td>Cleats</td></tr><tr><td>Pacoima</td><td>Indoor/Outdoor Games</td></tr><tr><td>Painesville</td><td>Women's Apparel</td></tr><tr><td>Palatine</td><td>Cleats</td></tr><tr><td>Palmdale</td><td>Cleats</td></tr><tr><td>Palo Alto</td><td>Water Sports</td></tr><tr><td>Palo Alto</td><td>Indoor/Outdoor Games</td></tr><tr><td>Panorama City</td><td>Cleats</td></tr><tr><td>Paramount</td><td>Cleats</td></tr><tr><td>Parkville</td><td>Cleats</td></tr><tr><td>Pasadena</td><td>Cleats</td></tr><tr><td>Passaic</td><td>Women's Apparel</td></tr><tr><td>Pawtucket</td><td>Cleats</td></tr><tr><td>Peabody</td><td>Cleats</td></tr><tr><td>Pekin</td><td>Cleats</td></tr><tr><td>Peoria</td><td>Indoor/Outdoor Games</td></tr><tr><td>Perth Amboy</td><td>Cleats</td></tr><tr><td>Pharr</td><td>Cleats</td></tr><tr><td>Philadelphia</td><td>Cleats</td></tr><tr><td>Phoenix</td><td>Cleats</td></tr><tr><td>Pico Rivera</td><td>Men's Footwear</td></tr><tr><td>Piscataway</td><td>Women's Apparel</td></tr><tr><td>Pittsburg</td><td>Cleats</td></tr><tr><td>Pittsfield</td><td>Fishing</td></tr><tr><td>Placentia</td><td>Indoor/Outdoor Games</td></tr><tr><td>Placentia</td><td>Cleats</td></tr><tr><td>Plainfield</td><td>Women's Apparel</td></tr><tr><td>Plano</td><td>Men's Footwear</td></tr><tr><td>Plymouth</td><td>Cleats</td></tr><tr><td>Pomona</td><td>Women's Apparel</td></tr><tr><td>Pompano Beach</td><td>Cleats</td></tr><tr><td>Ponce</td><td>Camping & Hiking</td></tr><tr><td>Porterville</td><td>Men's Footwear</td></tr><tr><td>Portland</td><td>Cleats</td></tr><tr><td>Potomac</td><td>Indoor/Outdoor Games</td></tr><tr><td>Poway</td><td>Men's Footwear</td></tr><tr><td>Powder Springs</td><td>Men's Footwear</td></tr><tr><td>Powder Springs</td><td>Cleats</td></tr><tr><td>Princeton</td><td>Water Sports</td></tr><tr><td>Provo</td><td>Women's Apparel</td></tr><tr><td>Quincy</td><td>Cleats</td></tr><tr><td>Raleigh</td><td>Cardio Equipment</td></tr><tr><td>Rancho Cordova</td><td>Indoor/Outdoor Games</td></tr><tr><td>Rancho Cucamonga</td><td>Cleats</td></tr><tr><td>Redmond</td><td>Cleats</td></tr><tr><td>Rego Park</td><td>Men's Footwear</td></tr><tr><td>Reno</td><td>Men's Footwear</td></tr><tr><td>Reseda</td><td>Cleats</td></tr><tr><td>Revere</td><td>Cleats</td></tr><tr><td>Reynoldsburg</td><td>Water Sports</td></tr><tr><td>Rialto</td><td>Cleats</td></tr><tr><td>Rialto</td><td>Indoor/Outdoor Games</td></tr><tr><td>Rialto</td><td>Camping & Hiking</td></tr><tr><td>Richardson</td><td>Water Sports</td></tr><tr><td>Richmond</td><td>Men's Footwear</td></tr><tr><td>Ridgewood</td><td>Cleats</td></tr><tr><td>Rio Grande</td><td>Fishing</td></tr><tr><td>Rio Rancho</td><td>Women's Apparel</td></tr><tr><td>Riverside</td><td>Men's Footwear</td></tr><tr><td>Rochester</td><td>Men's Footwear</td></tr><tr><td>Rock Hill</td><td>Cleats</td></tr><tr><td>Rome</td><td>Cleats</td></tr><tr><td>Roseburg</td><td>Men's Footwear</td></tr><tr><td>Rosemead</td><td>Water Sports</td></tr><tr><td>Roseville</td><td>Women's Apparel</td></tr><tr><td>Roswell</td><td>Men's Footwear</td></tr><tr><td>Round Rock</td><td>Cleats</td></tr><tr><td>Rowland Heights</td><td>Men's Footwear</td></tr><tr><td>Sacramento</td><td>Cleats</td></tr><tr><td>Saginaw</td><td>Indoor/Outdoor Games</td></tr><tr><td>Saginaw</td><td>Women's Apparel</td></tr><tr><td>Saint Charles</td><td>Men's Footwear</td></tr><tr><td>Saint Louis</td><td>Men's Footwear</td></tr><tr><td>Saint Paul</td><td>Cleats</td></tr><tr><td>Saint Peters</td><td>Fishing</td></tr><tr><td>Salem</td><td>Cleats</td></tr><tr><td>Salina</td><td>Men's Footwear</td></tr><tr><td>Salinas</td><td>Cleats</td></tr><tr><td>Salt Lake City</td><td>Cleats</td></tr><tr><td>San Antonio</td><td>Cleats</td></tr><tr><td>San Antonio</td><td>Men's Footwear</td></tr><tr><td>San Benito</td><td>Fishing</td></tr><tr><td>San Bernardino</td><td>Cleats</td></tr><tr><td>San Diego</td><td>Cleats</td></tr><tr><td>San Francisco</td><td>Women's Apparel</td></tr><tr><td>San Jose</td><td>Cleats</td></tr><tr><td>San Juan</td><td>Cleats</td></tr><tr><td>San Marcos</td><td>Cleats</td></tr><tr><td>San Pablo</td><td>Fishing</td></tr><tr><td>San Pablo</td><td>Men's Footwear</td></tr><tr><td>San Pedro</td><td>Men's Footwear</td></tr><tr><td>San Ramon</td><td>Men's Footwear</td></tr><tr><td>San Sebastian</td><td>Cleats</td></tr><tr><td>Sandusky</td><td>Women's Apparel</td></tr><tr><td>Sanford</td><td>Women's Apparel</td></tr><tr><td>Santa Ana</td><td>Cleats</td></tr><tr><td>Santa Clara</td><td>Cleats</td></tr><tr><td>Santa Cruz</td><td>Cleats</td></tr><tr><td>Santa Fe</td><td>Water Sports</td></tr><tr><td>Santa Maria</td><td>Cleats</td></tr><tr><td>Santee</td><td>Women's Apparel</td></tr><tr><td>Scottsdale</td><td>Cleats</td></tr><tr><td>Seattle</td><td>Cleats</td></tr><tr><td>Sheboygan</td><td>Indoor/Outdoor Games</td></tr><tr><td>Silver Spring</td><td>Men's Footwear</td></tr><tr><td>Simi Valley</td><td>Cleats</td></tr><tr><td>Smyrna</td><td>Women's Apparel</td></tr><tr><td>South El Monte</td><td>Cleats</td></tr><tr><td>South Gate</td><td>Women's Apparel</td></tr><tr><td>South Ozone Park</td><td>Men's Footwear</td></tr><tr><td>South Richmond Hill</td><td>Men's Footwear</td></tr><tr><td>South San Francisco</td><td>Women's Apparel</td></tr><tr><td>Spokane</td><td>Women's Apparel</td></tr><tr><td>Spring</td><td>Indoor/Outdoor Games</td></tr><tr><td>Spring</td><td>Women's Apparel</td></tr><tr><td>Spring</td><td>Water Sports</td></tr><tr><td>Spring Valley</td><td>Cleats</td></tr><tr><td>Springfield</td><td>Cleats</td></tr><tr><td>Springfield</td><td>Fishing</td></tr><tr><td>Stafford</td><td>Women's Apparel</td></tr><tr><td>Stamford</td><td>Men's Footwear</td></tr><tr><td>Stamford</td><td>Cleats</td></tr><tr><td>Staten Island</td><td>Women's Apparel</td></tr><tr><td>Stockbridge</td><td>Cleats</td></tr><tr><td>Stockton</td><td>Men's Footwear</td></tr><tr><td>Stone Mountain</td><td>Water Sports</td></tr><tr><td>Strongsville</td><td>Cleats</td></tr><tr><td>Sugar Land</td><td>Men's Footwear</td></tr><tr><td>Summerville</td><td>Cleats</td></tr><tr><td>Sumner</td><td>Indoor/Outdoor Games</td></tr><tr><td>Sun Valley</td><td>Women's Apparel</td></tr><tr><td>Sun Valley</td><td>Cleats</td></tr><tr><td>Sunnyvale</td><td>Cleats</td></tr><tr><td>Sylmar</td><td>Women's Apparel</td></tr><tr><td>Sylmar</td><td>Fishing</td></tr><tr><td>Tallahassee</td><td>Cleats</td></tr><tr><td>Tampa</td><td>Cleats</td></tr><tr><td>Taunton</td><td>Cleats</td></tr><tr><td>Taunton</td><td>Indoor/Outdoor Games</td></tr><tr><td>Taunton</td><td>Camping & Hiking</td></tr><tr><td>Taylor</td><td>Camping & Hiking</td></tr><tr><td>Temecula</td><td>Cleats</td></tr><tr><td>Tempe</td><td>Women's Apparel</td></tr><tr><td>Tinley Park</td><td>Cleats</td></tr><tr><td>Tinley Park</td><td>Indoor/Outdoor Games</td></tr><tr><td>Toa Alta</td><td>Indoor/Outdoor Games</td></tr><tr><td>Toa Baja</td><td>Cleats</td></tr><tr><td>Toms River</td><td>Cleats</td></tr><tr><td>Tonawanda</td><td>Cleats</td></tr><tr><td>Tracy</td><td>Cleats</td></tr><tr><td>Tracy</td><td>Fishing</td></tr><tr><td>Troy</td><td>Women's Apparel</td></tr><tr><td>Trujillo Alto</td><td>Indoor/Outdoor Games</td></tr><tr><td>Trujillo Alto</td><td>Cleats</td></tr><tr><td>Tucson</td><td>Cleats</td></tr><tr><td>Tulare</td><td>Cleats</td></tr><tr><td>Tustin</td><td>Men's Footwear</td></tr><tr><td>Union</td><td>Women's Apparel</td></tr><tr><td>Union City</td><td>Women's Apparel</td></tr><tr><td>Upland</td><td>Cleats</td></tr><tr><td>Vacaville</td><td>Men's Footwear</td></tr><tr><td>Vallejo</td><td>Women's Apparel</td></tr><tr><td>Valrico</td><td>Men's Footwear</td></tr><tr><td>Van Nuys</td><td>Men's Footwear</td></tr><tr><td>Vega Baja</td><td>Indoor/Outdoor Games</td></tr><tr><td>Ventura</td><td>Cleats</td></tr><tr><td>Victorville</td><td>Cleats</td></tr><tr><td>Virginia Beach</td><td>Women's Apparel</td></tr><tr><td>Visalia</td><td>Men's Footwear</td></tr><tr><td>Vista</td><td>Cleats</td></tr><tr><td>Waipahu</td><td>Men's Footwear</td></tr><tr><td>Walnut</td><td>Cleats</td></tr><tr><td>Warren</td><td>Cleats</td></tr><tr><td>Washington</td><td>Cleats</td></tr><tr><td>Watsonville</td><td>Cleats</td></tr><tr><td>Waukegan</td><td>Cleats</td></tr><tr><td>Wayne</td><td>Cleats</td></tr><tr><td>Webster</td><td>Cleats</td></tr><tr><td>Weslaco</td><td>Men's Footwear</td></tr><tr><td>West Chester</td><td>Cleats</td></tr><tr><td>West Covina</td><td>Cleats</td></tr><tr><td>West Haven</td><td>Men's Footwear</td></tr><tr><td>West Jordan</td><td>Men's Footwear</td></tr><tr><td>West Lafayette</td><td>Cleats</td></tr><tr><td>West New York</td><td>Cleats</td></tr><tr><td>West New York</td><td>Men's Footwear</td></tr><tr><td>West Orange</td><td>Women's Apparel</td></tr><tr><td>West Orange</td><td>Men's Footwear</td></tr><tr><td>Westerville</td><td>Men's Footwear</td></tr><tr><td>Westland</td><td>Water Sports</td></tr><tr><td>Westminster</td><td>Indoor/Outdoor Games</td></tr><tr><td>Wheaton</td><td>Men's Footwear</td></tr><tr><td>Wheeling</td><td>Women's Apparel</td></tr><tr><td>Wheeling</td><td>Water Sports</td></tr><tr><td>Wheeling</td><td>Cleats</td></tr><tr><td>Wichita</td><td>Indoor/Outdoor Games</td></tr><tr><td>Wilkes Barre</td><td>Women's Apparel</td></tr><tr><td>Williamsport</td><td>Fishing</td></tr><tr><td>Williamsport</td><td>Cleats</td></tr><tr><td>Wilmington</td><td>Fishing</td></tr><tr><td>Winnetka</td><td>Cleats</td></tr><tr><td>Winter Park</td><td>Cleats</td></tr><tr><td>Winter Park</td><td>Men's Footwear</td></tr><tr><td>Woodbridge</td><td>Men's Footwear</td></tr><tr><td>Woodside</td><td>Men's Footwear</td></tr><tr><td>Woonsocket</td><td>Cleats</td></tr><tr><td>Wyandotte</td><td>Cleats</td></tr><tr><td>Wyoming</td><td>Cleats</td></tr><tr><td>Yauco</td><td>Cleats</td></tr><tr><td>Yonkers</td><td>Cleats</td></tr><tr><td>York</td><td>Cleats</td></tr><tr><td>Ypsilanti</td><td>Indoor/Outdoor Games</td></tr><tr><td>Yuma</td><td>Cleats</td></tr><tr><td>Zanesville</td><td>Women's Apparel</td></tr></tbody></table></div>"
      ]
     },
     "metadata": {
      "application/vnd.databricks.v1+output": {
       "addedWidgets": {},
       "aggData": [],
       "aggError": "",
       "aggOverflow": false,
       "aggSchema": [],
       "aggSeriesLimitReached": false,
       "aggType": "",
       "arguments": {},
       "columnCustomDisplayInfos": {},
       "data": [
        [
         "Aguadilla",
         "Cleats"
        ],
        [
         "Alameda",
         "Cleats"
        ],
        [
         "Albany",
         "Women's Apparel"
        ],
        [
         "Albuquerque",
         "Cleats"
        ],
        [
         "Algonquin",
         "Cleats"
        ],
        [
         "Alhambra",
         "Women's Apparel"
        ],
        [
         "Allentown",
         "Cleats"
        ],
        [
         "Alpharetta",
         "Men's Footwear"
        ],
        [
         "Amarillo",
         "Cleats"
        ],
        [
         "Amarillo",
         "Indoor/Outdoor Games"
        ],
        [
         "Anaheim",
         "Women's Apparel"
        ],
        [
         "Ann Arbor",
         "Women's Apparel"
        ],
        [
         "Annandale",
         "Men's Footwear"
        ],
        [
         "Annapolis",
         "Men's Footwear"
        ],
        [
         "Antioch",
         "Indoor/Outdoor Games"
        ],
        [
         "Apex",
         "Cleats"
        ],
        [
         "Apopka",
         "Fishing"
        ],
        [
         "Arecibo",
         "Women's Apparel"
        ],
        [
         "Arlington",
         "Women's Apparel"
        ],
        [
         "Arlington Heights",
         "Women's Apparel"
        ],
        [
         "Asheboro",
         "Women's Apparel"
        ],
        [
         "Astoria",
         "Men's Footwear"
        ],
        [
         "Atlanta",
         "Men's Footwear"
        ],
        [
         "Augusta",
         "Indoor/Outdoor Games"
        ],
        [
         "Augusta",
         "Men's Footwear"
        ],
        [
         "Aurora",
         "Cleats"
        ],
        [
         "Austin",
         "Men's Footwear"
        ],
        [
         "Azusa",
         "Women's Apparel"
        ],
        [
         "Bakersfield",
         "Women's Apparel"
        ],
        [
         "Baldwin Park",
         "Cleats"
        ],
        [
         "Ballwin",
         "Indoor/Outdoor Games"
        ],
        [
         "Ballwin",
         "Water Sports"
        ],
        [
         "Baltimore",
         "Cleats"
        ],
        [
         "Bartlett",
         "Cleats"
        ],
        [
         "Bay Shore",
         "Women's Apparel"
        ],
        [
         "Bayamon",
         "Cleats"
        ],
        [
         "Bayonne",
         "Cleats"
        ],
        [
         "Baytown",
         "Women's Apparel"
        ],
        [
         "Beaverton",
         "Men's Footwear"
        ],
        [
         "Bell Gardens",
         "Indoor/Outdoor Games"
        ],
        [
         "Bellflower",
         "Indoor/Outdoor Games"
        ],
        [
         "Bellflower",
         "Cleats"
        ],
        [
         "Bellflower",
         "Fishing"
        ],
        [
         "Bellingham",
         "Women's Apparel"
        ],
        [
         "Bellingham",
         "Indoor/Outdoor Games"
        ],
        [
         "Beloit",
         "Men's Footwear"
        ],
        [
         "Beloit",
         "Fishing"
        ],
        [
         "Bend",
         "Men's Footwear"
        ],
        [
         "Bensalem",
         "Fishing"
        ],
        [
         "Berwyn",
         "Cleats"
        ],
        [
         "Billings",
         "Indoor/Outdoor Games"
        ],
        [
         "Birmingham",
         "Fishing"
        ],
        [
         "Birmingham",
         "Water Sports"
        ],
        [
         "Bismarck",
         "Cleats"
        ],
        [
         "Blacksburg",
         "Men's Footwear"
        ],
        [
         "Bloomfield",
         "Cleats"
        ],
        [
         "Bolingbrook",
         "Men's Footwear"
        ],
        [
         "Bountiful",
         "Cleats"
        ],
        [
         "Bowling Green",
         "Cleats"
        ],
        [
         "Brandon",
         "Men's Footwear"
        ],
        [
         "Brentwood",
         "Cleats"
        ],
        [
         "Bridgeton",
         "Men's Footwear"
        ],
        [
         "Brighton",
         "Water Sports"
        ],
        [
         "Bristol",
         "Fishing"
        ],
        [
         "Brockton",
         "Cleats"
        ],
        [
         "Broken Arrow",
         "Men's Footwear"
        ],
        [
         "Bronx",
         "Cleats"
        ],
        [
         "Brooklyn",
         "Cleats"
        ],
        [
         "Broomfield",
         "Indoor/Outdoor Games"
        ],
        [
         "Brownsville",
         "Women's Apparel"
        ],
        [
         "Buena Park",
         "Indoor/Outdoor Games"
        ],
        [
         "Buffalo",
         "Cleats"
        ],
        [
         "Burnsville",
         "Fishing"
        ],
        [
         "Caguas",
         "Cleats"
        ],
        [
         "Campbell",
         "Cleats"
        ],
        [
         "Canoga Park",
         "Cleats"
        ],
        [
         "Canovanas",
         "Women's Apparel"
        ],
        [
         "Canton",
         "Men's Footwear"
        ],
        [
         "Canyon Country",
         "Women's Apparel"
        ],
        [
         "Carlisle",
         "Cleats"
        ],
        [
         "Carlisle",
         "Men's Footwear"
        ],
        [
         "Carlsbad",
         "Cleats"
        ],
        [
         "Carmichael",
         "Fishing"
        ],
        [
         "Carmichael",
         "Men's Footwear"
        ],
        [
         "Carmichael",
         "Women's Apparel"
        ],
        [
         "Carol Stream",
         "Cleats"
        ],
        [
         "Carolina",
         "Men's Footwear"
        ],
        [
         "Carrollton",
         "Cleats"
        ],
        [
         "Carson",
         "Cleats"
        ],
        [
         "Cary",
         "Cleats"
        ],
        [
         "Catonsville",
         "Cleats"
        ],
        [
         "Cayey",
         "Indoor/Outdoor Games"
        ],
        [
         "Cerritos",
         "Cleats"
        ],
        [
         "Chambersburg",
         "Cleats"
        ],
        [
         "Chandler",
         "Cleats"
        ],
        [
         "Chandler",
         "Men's Footwear"
        ],
        [
         "Chapel Hill",
         "Cleats"
        ],
        [
         "Charlotte",
         "Cleats"
        ],
        [
         "Chesapeake",
         "Cleats"
        ],
        [
         "Chicago",
         "Cleats"
        ],
        [
         "Chicago Heights",
         "Fishing"
        ],
        [
         "Chicago Heights",
         "Cleats"
        ],
        [
         "Chillicothe",
         "Cleats"
        ],
        [
         "Chillicothe",
         "Fishing"
        ],
        [
         "Chino",
         "Women's Apparel"
        ],
        [
         "Chino Hills",
         "Women's Apparel"
        ],
        [
         "Chula Vista",
         "Men's Footwear"
        ],
        [
         "Cicero",
         "Cleats"
        ],
        [
         "Cincinnati",
         "Cleats"
        ],
        [
         "Citrus Heights",
         "Women's Apparel"
        ],
        [
         "Clarksville",
         "Cleats"
        ],
        [
         "Clearfield",
         "Fishing"
        ],
        [
         "Clementon",
         "Indoor/Outdoor Games"
        ],
        [
         "Clementon",
         "Women's Apparel"
        ],
        [
         "Cleveland",
         "Cleats"
        ],
        [
         "Clovis",
         "Indoor/Outdoor Games"
        ],
        [
         "College Station",
         "Women's Apparel"
        ],
        [
         "Colorado Springs",
         "Men's Footwear"
        ],
        [
         "Colorado Springs",
         "Cleats"
        ],
        [
         "Colton",
         "Cleats"
        ],
        [
         "Columbia",
         "Cleats"
        ],
        [
         "Columbus",
         "Men's Footwear"
        ],
        [
         "Compton",
         "Men's Footwear"
        ],
        [
         "Conway",
         "Men's Footwear"
        ],
        [
         "Cordova",
         "Men's Footwear"
        ],
        [
         "Corona",
         "Cleats"
        ],
        [
         "Costa Mesa",
         "Cleats"
        ],
        [
         "Crown Point",
         "Men's Footwear"
        ],
        [
         "Crystal Lake",
         "Water Sports"
        ],
        [
         "Crystal Lake",
         "Cleats"
        ],
        [
         "Cumberland",
         "Men's Footwear"
        ],
        [
         "Cupertino",
         "Cleats"
        ],
        [
         "Cypress",
         "Cleats"
        ],
        [
         "Dallas",
         "Cleats"
        ],
        [
         "Daly City",
         "Men's Footwear"
        ],
        [
         "Danbury",
         "Fishing"
        ],
        [
         "Davis",
         "Women's Apparel"
        ],
        [
         "Davis",
         "Cleats"
        ],
        [
         "Dayton",
         "Indoor/Outdoor Games"
        ],
        [
         "Dearborn",
         "Cleats"
        ],
        [
         "Decatur",
         "Cleats"
        ],
        [
         "Decatur",
         "Women's Apparel"
        ],
        [
         "Del Rio",
         "Cleats"
        ],
        [
         "Denton",
         "Water Sports"
        ],
        [
         "Denver",
         "Cleats"
        ],
        [
         "Des Plaines",
         "Fishing"
        ],
        [
         "Detroit",
         "Men's Footwear"
        ],
        [
         "Diamond Bar",
         "Indoor/Outdoor Games"
        ],
        [
         "Dorchester Center",
         "Cleats"
        ],
        [
         "Douglasville",
         "Fishing"
        ],
        [
         "Doylestown",
         "Indoor/Outdoor Games"
        ],
        [
         "Dubuque",
         "Cleats"
        ],
        [
         "Dubuque",
         "Fishing"
        ],
        [
         "Dubuque",
         "Men's Footwear"
        ],
        [
         "Duluth",
         "Cleats"
        ],
        [
         "Duluth",
         "Water Sports"
        ],
        [
         "Dundalk",
         "Cleats"
        ],
        [
         "Eagle Pass",
         "Water Sports"
        ],
        [
         "Eagle Pass",
         "Women's Apparel"
        ],
        [
         "East Brunswick",
         "Indoor/Outdoor Games"
        ],
        [
         "East Lansing",
         "Women's Apparel"
        ],
        [
         "Edinburg",
         "Cleats"
        ],
        [
         "Edison",
         "Men's Footwear"
        ],
        [
         "El Cajon",
         "Men's Footwear"
        ],
        [
         "El Centro",
         "Cleats"
        ],
        [
         "El Monte",
         "Indoor/Outdoor Games"
        ],
        [
         "El Paso",
         "Men's Footwear"
        ],
        [
         "Elgin",
         "Cleats"
        ],
        [
         "Elk Grove",
         "Cleats"
        ],
        [
         "Elmhurst",
         "Men's Footwear"
        ],
        [
         "Elyria",
         "Cleats"
        ],
        [
         "Encinitas",
         "Cleats"
        ],
        [
         "Encinitas",
         "Indoor/Outdoor Games"
        ],
        [
         "Endicott",
         "Women's Apparel"
        ],
        [
         "Enfield",
         "Indoor/Outdoor Games"
        ],
        [
         "Englewood",
         "Women's Apparel"
        ],
        [
         "Escondido",
         "Women's Apparel"
        ],
        [
         "Eugene",
         "Women's Apparel"
        ],
        [
         "Everett",
         "Cleats"
        ],
        [
         "Ewa Beach",
         "Cleats"
        ],
        [
         "Fairfield",
         "Fishing"
        ],
        [
         "Far Rockaway",
         "Men's Footwear"
        ],
        [
         "Fargo",
         "Indoor/Outdoor Games"
        ],
        [
         "Fargo",
         "Fishing"
        ],
        [
         "Fargo",
         "Women's Apparel"
        ],
        [
         "Fargo",
         "Cleats"
        ],
        [
         "Fayetteville",
         "Cleats"
        ],
        [
         "Federal Way",
         "Cleats"
        ],
        [
         "Findlay",
         "Men's Footwear"
        ],
        [
         "Florissant",
         "Men's Footwear"
        ],
        [
         "Flushing",
         "Fishing"
        ],
        [
         "Folsom",
         "Cleats"
        ],
        [
         "Fond Du Lac",
         "Cleats"
        ],
        [
         "Fontana",
         "Men's Footwear"
        ],
        [
         "Forest Hills",
         "Indoor/Outdoor Games"
        ],
        [
         "Fort Lauderdale",
         "Cleats"
        ],
        [
         "Fort Washington",
         "Cleats"
        ],
        [
         "Fort Worth",
         "Cleats"
        ],
        [
         "Fountain Valley",
         "Women's Apparel"
        ],
        [
         "Frankfort",
         "Cleats"
        ],
        [
         "Freehold",
         "Women's Apparel"
        ],
        [
         "Freeport",
         "Men's Footwear"
        ],
        [
         "Fremont",
         "Fishing"
        ],
        [
         "Fresno",
         "Women's Apparel"
        ],
        [
         "Fullerton",
         "Cleats"
        ],
        [
         "Gaithersburg",
         "Cleats"
        ],
        [
         "Garden Grove",
         "Indoor/Outdoor Games"
        ],
        [
         "Gardena",
         "Men's Footwear"
        ],
        [
         "Garland",
         "Men's Footwear"
        ],
        [
         "Germantown",
         "Men's Footwear"
        ],
        [
         "Gilroy",
         "Men's Footwear"
        ],
        [
         "Glen Burnie",
         "Men's Footwear"
        ],
        [
         "Glen Burnie",
         "Cleats"
        ],
        [
         "Glen Burnie",
         "Indoor/Outdoor Games"
        ],
        [
         "Glendale",
         "Cleats"
        ],
        [
         "Glenview",
         "Cleats"
        ],
        [
         "Goleta",
         "Cleats"
        ],
        [
         "Goose Creek",
         "Cleats"
        ],
        [
         "Granada Hills",
         "Women's Apparel"
        ],
        [
         "Granada Hills",
         "Cleats"
        ],
        [
         "Grand Prairie",
         "Cleats"
        ],
        [
         "Granite City",
         "Men's Footwear"
        ],
        [
         "Granite City",
         "Cleats"
        ],
        [
         "Greeley",
         "Men's Footwear"
        ],
        [
         "Greensboro",
         "Cleats"
        ],
        [
         "Greensburg",
         "Women's Apparel"
        ],
        [
         "Greenville",
         "Cleats"
        ],
        [
         "Grove City",
         "Women's Apparel"
        ],
        [
         "Guayama",
         "Fishing"
        ],
        [
         "Guaynabo",
         "Men's Footwear"
        ],
        [
         "Guaynabo",
         "Camping & Hiking"
        ],
        [
         "Gwynn Oak",
         "Cleats"
        ],
        [
         "Hacienda Heights",
         "Indoor/Outdoor Games"
        ],
        [
         "Hacienda Heights",
         "Fishing"
        ],
        [
         "Hagerstown",
         "Indoor/Outdoor Games"
        ],
        [
         "Hamilton",
         "Men's Footwear"
        ],
        [
         "Hampton",
         "Cleats"
        ],
        [
         "Hamtramck",
         "Men's Footwear"
        ],
        [
         "Hamtramck",
         "Indoor/Outdoor Games"
        ],
        [
         "Hanford",
         "Cleats"
        ],
        [
         "Hanover",
         "Women's Apparel"
        ],
        [
         "Harlingen",
         "Water Sports"
        ],
        [
         "Harvey",
         "Cleats"
        ],
        [
         "Hawthorne",
         "Cleats"
        ],
        [
         "Hayward",
         "Men's Footwear"
        ],
        [
         "Hempstead",
         "Men's Footwear"
        ],
        [
         "Henderson",
         "Fishing"
        ],
        [
         "Hendersonville",
         "Women's Apparel"
        ],
        [
         "Henrico",
         "Women's Apparel"
        ],
        [
         "Henrico",
         "Men's Footwear"
        ],
        [
         "Hesperia",
         "Cleats"
        ],
        [
         "Hesperia",
         "Women's Apparel"
        ],
        [
         "Hesperia",
         "Men's Footwear"
        ],
        [
         "Hialeah",
         "Cleats"
        ],
        [
         "Hickory",
         "Cleats"
        ],
        [
         "Highland",
         "Cleats"
        ],
        [
         "Highland Park",
         "Cleats"
        ],
        [
         "Hilliard",
         "Men's Footwear"
        ],
        [
         "Holland",
         "Men's Footwear"
        ],
        [
         "Hollister",
         "Men's Footwear"
        ],
        [
         "Hollywood",
         "Cleats"
        ],
        [
         "Honolulu",
         "Men's Footwear"
        ],
        [
         "Houston",
         "Cleats"
        ],
        [
         "Howell",
         "Women's Apparel"
        ],
        [
         "Humacao",
         "Cleats"
        ],
        [
         "Huntington Beach",
         "Men's Footwear"
        ],
        [
         "Huntington Park",
         "Men's Footwear"
        ],
        [
         "Huntington Station",
         "Cleats"
        ],
        [
         "Hyattsville",
         "Men's Footwear"
        ],
        [
         "Indianapolis",
         "Cleats"
        ],
        [
         "Indio",
         "Fishing"
        ],
        [
         "Irving",
         "Men's Footwear"
        ],
        [
         "Irvington",
         "Fishing"
        ],
        [
         "Irvington",
         "Men's Footwear"
        ],
        [
         "Irwin",
         "Men's Footwear"
        ],
        [
         "Ithaca",
         "Men's Footwear"
        ],
        [
         "Jackson",
         "Water Sports"
        ],
        [
         "Jackson Heights",
         "Cleats"
        ],
        [
         "Jacksonville",
         "Women's Apparel"
        ],
        [
         "Jacksonville",
         "Cleats"
        ],
        [
         "Jamaica",
         "Cleats"
        ],
        [
         "Jersey City",
         "Cleats"
        ],
        [
         "Joliet",
         "Men's Footwear"
        ],
        [
         "Jonesboro",
         "Cleats"
        ],
        [
         "Juana Diaz",
         "Men's Footwear"
        ],
        [
         "Kailua",
         "Cleats"
        ],
        [
         "Kaneohe",
         "Women's Apparel"
        ],
        [
         "Katy",
         "Cleats"
        ],
        [
         "Kenner",
         "Fishing"
        ],
        [
         "Kent",
         "Cleats"
        ],
        [
         "Knoxville",
         "Women's Apparel"
        ],
        [
         "La Crosse",
         "Women's Apparel"
        ],
        [
         "La Habra",
         "Water Sports"
        ],
        [
         "La Mesa",
         "Men's Footwear"
        ],
        [
         "La Mirada",
         "Men's Footwear"
        ],
        [
         "La Puente",
         "Women's Apparel"
        ],
        [
         "Laguna Hills",
         "Women's Apparel"
        ],
        [
         "Laguna Niguel",
         "Cleats"
        ],
        [
         "Lake Forest",
         "Cleats"
        ],
        [
         "Lakewood",
         "Men's Footwear"
        ],
        [
         "Lancaster",
         "Women's Apparel"
        ],
        [
         "Lansdale",
         "Cleats"
        ],
        [
         "Laredo",
         "Women's Apparel"
        ],
        [
         "Las Cruces",
         "Cleats"
        ],
        [
         "Las Vegas",
         "Men's Footwear"
        ],
        [
         "Lawrence",
         "Women's Apparel"
        ],
        [
         "Lawrence",
         "Cleats"
        ],
        [
         "Lawrenceville",
         "Indoor/Outdoor Games"
        ],
        [
         "Lawton",
         "Women's Apparel"
        ],
        [
         "Lenoir",
         "Men's Footwear"
        ],
        [
         "Levittown",
         "Cleats"
        ],
        [
         "Lewisville",
         "Indoor/Outdoor Games"
        ],
        [
         "Lewisville",
         "Women's Apparel"
        ],
        [
         "Lilburn",
         "Cleats"
        ],
        [
         "Lindenhurst",
         "Women's Apparel"
        ],
        [
         "Lindenhurst",
         "Cleats"
        ],
        [
         "Lithonia",
         "Cleats"
        ],
        [
         "Littleton",
         "Women's Apparel"
        ],
        [
         "Livermore",
         "Cleats"
        ],
        [
         "Lockport",
         "Men's Footwear"
        ],
        [
         "Lodi",
         "Cleats"
        ],
        [
         "Lombard",
         "Men's Footwear"
        ],
        [
         "Lompoc",
         "Indoor/Outdoor Games"
        ],
        [
         "Long Beach",
         "Cleats"
        ],
        [
         "Longmont",
         "Men's Footwear"
        ],
        [
         "Longview",
         "Men's Footwear"
        ],
        [
         "Los Angeles",
         "Cleats"
        ],
        [
         "Louisville",
         "Cleats"
        ],
        [
         "Loveland",
         "Women's Apparel"
        ],
        [
         "Lutz",
         "Cleats"
        ],
        [
         "Lynn",
         "Cleats"
        ],
        [
         "Lynnwood",
         "Cleats"
        ],
        [
         "Lynwood",
         "Women's Apparel"
        ],
        [
         "Madera",
         "Fishing"
        ],
        [
         "Madison",
         "Cleats"
        ],
        [
         "Madison",
         "Men's Footwear"
        ],
        [
         "Malden",
         "Men's Footwear"
        ],
        [
         "Manati",
         "Women's Apparel"
        ],
        [
         "Manchester",
         "Fishing"
        ],
        [
         "Manchester",
         "Women's Apparel"
        ],
        [
         "Marietta",
         "Cleats"
        ],
        [
         "Marietta",
         "Women's Apparel"
        ],
        [
         "Marion",
         "Cleats"
        ],
        [
         "Marrero",
         "Cleats"
        ],
        [
         "Martinez",
         "Men's Footwear"
        ],
        [
         "Martinsburg",
         "Cleats"
        ],
        [
         "Massapequa",
         "Indoor/Outdoor Games"
        ],
        [
         "Massillon",
         "Men's Footwear"
        ],
        [
         "Mayaguez",
         "Cleats"
        ],
        [
         "Mcallen",
         "Cleats"
        ],
        [
         "Mchenry",
         "Cleats"
        ],
        [
         "Mechanicsburg",
         "Women's Apparel"
        ],
        [
         "Mechanicsburg",
         "Cleats"
        ],
        [
         "Medford",
         "Women's Apparel"
        ],
        [
         "Medina",
         "Women's Apparel"
        ],
        [
         "Memphis",
         "Cleats"
        ],
        [
         "Mentor",
         "Women's Apparel"
        ],
        [
         "Mentor",
         "Men's Footwear"
        ],
        [
         "Merced",
         "Camping & Hiking"
        ],
        [
         "Merced",
         "Cleats"
        ],
        [
         "Meridian",
         "Cleats"
        ],
        [
         "Mesa",
         "Women's Apparel"
        ],
        [
         "Mesquite",
         "Cleats"
        ],
        [
         "Metairie",
         "Men's Footwear"
        ],
        [
         "Methuen",
         "Cleats"
        ],
        [
         "Miami",
         "Cleats"
        ],
        [
         "Michigan City",
         "Indoor/Outdoor Games"
        ],
        [
         "Middletown",
         "Indoor/Outdoor Games"
        ],
        [
         "Milford",
         "Cleats"
        ],
        [
         "Mililani",
         "Women's Apparel"
        ],
        [
         "Milpitas",
         "Cleats"
        ],
        [
         "Milwaukee",
         "Men's Footwear"
        ],
        [
         "Mission",
         "Men's Footwear"
        ],
        [
         "Mission",
         "Cleats"
        ],
        [
         "Mission Viejo",
         "Men's Footwear"
        ],
        [
         "Modesto",
         "Women's Apparel"
        ],
        [
         "Modesto",
         "Men's Footwear"
        ],
        [
         "Modesto",
         "Cleats"
        ],
        [
         "Moline",
         "Men's Footwear"
        ],
        [
         "Montebello",
         "Cleats"
        ],
        [
         "Moreno Valley",
         "Women's Apparel"
        ],
        [
         "Morganton",
         "Water Sports"
        ],
        [
         "Morganton",
         "Cleats"
        ],
        [
         "Morganton",
         "Fishing"
        ],
        [
         "Morganton",
         "Women's Apparel"
        ],
        [
         "Morganton",
         "Shop By Sport"
        ],
        [
         "Morristown",
         "Men's Footwear"
        ],
        [
         "Morrisville",
         "Men's Footwear"
        ],
        [
         "Mount Pleasant",
         "Cleats"
        ],
        [
         "Mount Pleasant",
         "Fishing"
        ],
        [
         "Mount Prospect",
         "Cleats"
        ],
        [
         "Murfreesboro",
         "Men's Footwear"
        ],
        [
         "Murfreesboro",
         "Cleats"
        ],
        [
         "Muskegon",
         "Fishing"
        ],
        [
         "Napa",
         "Men's Footwear"
        ],
        [
         "Nashville",
         "Indoor/Outdoor Games"
        ],
        [
         "National City",
         "Men's Footwear"
        ],
        [
         "National City",
         "Cardio Equipment"
        ],
        [
         "New Albany",
         "Men's Footwear"
        ],
        [
         "New Albany",
         "Fishing"
        ],
        [
         "New Bedford",
         "Women's Apparel"
        ],
        [
         "New Braunfels",
         "Men's Footwear"
        ],
        [
         "New Brunswick",
         "Indoor/Outdoor Games"
        ],
        [
         "New Castle",
         "Men's Footwear"
        ],
        [
         "New Haven",
         "Cleats"
        ],
        [
         "New Orleans",
         "Men's Footwear"
        ],
        [
         "New York",
         "Cleats"
        ],
        [
         "Newark",
         "Cleats"
        ],
        [
         "Newburgh",
         "Women's Apparel"
        ],
        [
         "Norcross",
         "Men's Footwear"
        ],
        [
         "Norfolk",
         "Cleats"
        ],
        [
         "Normal",
         "Water Sports"
        ],
        [
         "North Bergen",
         "Men's Footwear"
        ],
        [
         "North Hills",
         "Cleats"
        ],
        [
         "North Hollywood",
         "Cleats"
        ],
        [
         "North Las Vegas",
         "Fishing"
        ],
        [
         "North Richland Hills",
         "Indoor/Outdoor Games"
        ],
        [
         "North Tonawanda",
         "Men's Footwear"
        ],
        [
         "Norwalk",
         "Women's Apparel"
        ],
        [
         "O Fallon",
         "Men's Footwear"
        ],
        [
         "Oak Lawn",
         "Cleats"
        ],
        [
         "Oakland",
         "Women's Apparel"
        ],
        [
         "Oceanside",
         "Men's Footwear"
        ],
        [
         "Ogden",
         "Cleats"
        ],
        [
         "Olathe",
         "Women's Apparel"
        ],
        [
         "Ontario",
         "Men's Footwear"
        ],
        [
         "Opa Locka",
         "Cleats"
        ],
        [
         "Opelousas",
         "Cleats"
        ],
        [
         "Orange Park",
         "Men's Footwear"
        ],
        [
         "Oregon City",
         "Indoor/Outdoor Games"
        ],
        [
         "Orlando",
         "Cleats"
        ],
        [
         "Oviedo",
         "Indoor/Outdoor Games"
        ],
        [
         "Oxnard",
         "Cleats"
        ],
        [
         "Pacoima",
         "Indoor/Outdoor Games"
        ],
        [
         "Painesville",
         "Women's Apparel"
        ],
        [
         "Palatine",
         "Cleats"
        ],
        [
         "Palmdale",
         "Cleats"
        ],
        [
         "Palo Alto",
         "Water Sports"
        ],
        [
         "Palo Alto",
         "Indoor/Outdoor Games"
        ],
        [
         "Panorama City",
         "Cleats"
        ],
        [
         "Paramount",
         "Cleats"
        ],
        [
         "Parkville",
         "Cleats"
        ],
        [
         "Pasadena",
         "Cleats"
        ],
        [
         "Passaic",
         "Women's Apparel"
        ],
        [
         "Pawtucket",
         "Cleats"
        ],
        [
         "Peabody",
         "Cleats"
        ],
        [
         "Pekin",
         "Cleats"
        ],
        [
         "Peoria",
         "Indoor/Outdoor Games"
        ],
        [
         "Perth Amboy",
         "Cleats"
        ],
        [
         "Pharr",
         "Cleats"
        ],
        [
         "Philadelphia",
         "Cleats"
        ],
        [
         "Phoenix",
         "Cleats"
        ],
        [
         "Pico Rivera",
         "Men's Footwear"
        ],
        [
         "Piscataway",
         "Women's Apparel"
        ],
        [
         "Pittsburg",
         "Cleats"
        ],
        [
         "Pittsfield",
         "Fishing"
        ],
        [
         "Placentia",
         "Indoor/Outdoor Games"
        ],
        [
         "Placentia",
         "Cleats"
        ],
        [
         "Plainfield",
         "Women's Apparel"
        ],
        [
         "Plano",
         "Men's Footwear"
        ],
        [
         "Plymouth",
         "Cleats"
        ],
        [
         "Pomona",
         "Women's Apparel"
        ],
        [
         "Pompano Beach",
         "Cleats"
        ],
        [
         "Ponce",
         "Camping & Hiking"
        ],
        [
         "Porterville",
         "Men's Footwear"
        ],
        [
         "Portland",
         "Cleats"
        ],
        [
         "Potomac",
         "Indoor/Outdoor Games"
        ],
        [
         "Poway",
         "Men's Footwear"
        ],
        [
         "Powder Springs",
         "Men's Footwear"
        ],
        [
         "Powder Springs",
         "Cleats"
        ],
        [
         "Princeton",
         "Water Sports"
        ],
        [
         "Provo",
         "Women's Apparel"
        ],
        [
         "Quincy",
         "Cleats"
        ],
        [
         "Raleigh",
         "Cardio Equipment"
        ],
        [
         "Rancho Cordova",
         "Indoor/Outdoor Games"
        ],
        [
         "Rancho Cucamonga",
         "Cleats"
        ],
        [
         "Redmond",
         "Cleats"
        ],
        [
         "Rego Park",
         "Men's Footwear"
        ],
        [
         "Reno",
         "Men's Footwear"
        ],
        [
         "Reseda",
         "Cleats"
        ],
        [
         "Revere",
         "Cleats"
        ],
        [
         "Reynoldsburg",
         "Water Sports"
        ],
        [
         "Rialto",
         "Cleats"
        ],
        [
         "Rialto",
         "Indoor/Outdoor Games"
        ],
        [
         "Rialto",
         "Camping & Hiking"
        ],
        [
         "Richardson",
         "Water Sports"
        ],
        [
         "Richmond",
         "Men's Footwear"
        ],
        [
         "Ridgewood",
         "Cleats"
        ],
        [
         "Rio Grande",
         "Fishing"
        ],
        [
         "Rio Rancho",
         "Women's Apparel"
        ],
        [
         "Riverside",
         "Men's Footwear"
        ],
        [
         "Rochester",
         "Men's Footwear"
        ],
        [
         "Rock Hill",
         "Cleats"
        ],
        [
         "Rome",
         "Cleats"
        ],
        [
         "Roseburg",
         "Men's Footwear"
        ],
        [
         "Rosemead",
         "Water Sports"
        ],
        [
         "Roseville",
         "Women's Apparel"
        ],
        [
         "Roswell",
         "Men's Footwear"
        ],
        [
         "Round Rock",
         "Cleats"
        ],
        [
         "Rowland Heights",
         "Men's Footwear"
        ],
        [
         "Sacramento",
         "Cleats"
        ],
        [
         "Saginaw",
         "Indoor/Outdoor Games"
        ],
        [
         "Saginaw",
         "Women's Apparel"
        ],
        [
         "Saint Charles",
         "Men's Footwear"
        ],
        [
         "Saint Louis",
         "Men's Footwear"
        ],
        [
         "Saint Paul",
         "Cleats"
        ],
        [
         "Saint Peters",
         "Fishing"
        ],
        [
         "Salem",
         "Cleats"
        ],
        [
         "Salina",
         "Men's Footwear"
        ],
        [
         "Salinas",
         "Cleats"
        ],
        [
         "Salt Lake City",
         "Cleats"
        ],
        [
         "San Antonio",
         "Cleats"
        ],
        [
         "San Antonio",
         "Men's Footwear"
        ],
        [
         "San Benito",
         "Fishing"
        ],
        [
         "San Bernardino",
         "Cleats"
        ],
        [
         "San Diego",
         "Cleats"
        ],
        [
         "San Francisco",
         "Women's Apparel"
        ],
        [
         "San Jose",
         "Cleats"
        ],
        [
         "San Juan",
         "Cleats"
        ],
        [
         "San Marcos",
         "Cleats"
        ],
        [
         "San Pablo",
         "Fishing"
        ],
        [
         "San Pablo",
         "Men's Footwear"
        ],
        [
         "San Pedro",
         "Men's Footwear"
        ],
        [
         "San Ramon",
         "Men's Footwear"
        ],
        [
         "San Sebastian",
         "Cleats"
        ],
        [
         "Sandusky",
         "Women's Apparel"
        ],
        [
         "Sanford",
         "Women's Apparel"
        ],
        [
         "Santa Ana",
         "Cleats"
        ],
        [
         "Santa Clara",
         "Cleats"
        ],
        [
         "Santa Cruz",
         "Cleats"
        ],
        [
         "Santa Fe",
         "Water Sports"
        ],
        [
         "Santa Maria",
         "Cleats"
        ],
        [
         "Santee",
         "Women's Apparel"
        ],
        [
         "Scottsdale",
         "Cleats"
        ],
        [
         "Seattle",
         "Cleats"
        ],
        [
         "Sheboygan",
         "Indoor/Outdoor Games"
        ],
        [
         "Silver Spring",
         "Men's Footwear"
        ],
        [
         "Simi Valley",
         "Cleats"
        ],
        [
         "Smyrna",
         "Women's Apparel"
        ],
        [
         "South El Monte",
         "Cleats"
        ],
        [
         "South Gate",
         "Women's Apparel"
        ],
        [
         "South Ozone Park",
         "Men's Footwear"
        ],
        [
         "South Richmond Hill",
         "Men's Footwear"
        ],
        [
         "South San Francisco",
         "Women's Apparel"
        ],
        [
         "Spokane",
         "Women's Apparel"
        ],
        [
         "Spring",
         "Indoor/Outdoor Games"
        ],
        [
         "Spring",
         "Women's Apparel"
        ],
        [
         "Spring",
         "Water Sports"
        ],
        [
         "Spring Valley",
         "Cleats"
        ],
        [
         "Springfield",
         "Cleats"
        ],
        [
         "Springfield",
         "Fishing"
        ],
        [
         "Stafford",
         "Women's Apparel"
        ],
        [
         "Stamford",
         "Men's Footwear"
        ],
        [
         "Stamford",
         "Cleats"
        ],
        [
         "Staten Island",
         "Women's Apparel"
        ],
        [
         "Stockbridge",
         "Cleats"
        ],
        [
         "Stockton",
         "Men's Footwear"
        ],
        [
         "Stone Mountain",
         "Water Sports"
        ],
        [
         "Strongsville",
         "Cleats"
        ],
        [
         "Sugar Land",
         "Men's Footwear"
        ],
        [
         "Summerville",
         "Cleats"
        ],
        [
         "Sumner",
         "Indoor/Outdoor Games"
        ],
        [
         "Sun Valley",
         "Women's Apparel"
        ],
        [
         "Sun Valley",
         "Cleats"
        ],
        [
         "Sunnyvale",
         "Cleats"
        ],
        [
         "Sylmar",
         "Women's Apparel"
        ],
        [
         "Sylmar",
         "Fishing"
        ],
        [
         "Tallahassee",
         "Cleats"
        ],
        [
         "Tampa",
         "Cleats"
        ],
        [
         "Taunton",
         "Cleats"
        ],
        [
         "Taunton",
         "Indoor/Outdoor Games"
        ],
        [
         "Taunton",
         "Camping & Hiking"
        ],
        [
         "Taylor",
         "Camping & Hiking"
        ],
        [
         "Temecula",
         "Cleats"
        ],
        [
         "Tempe",
         "Women's Apparel"
        ],
        [
         "Tinley Park",
         "Cleats"
        ],
        [
         "Tinley Park",
         "Indoor/Outdoor Games"
        ],
        [
         "Toa Alta",
         "Indoor/Outdoor Games"
        ],
        [
         "Toa Baja",
         "Cleats"
        ],
        [
         "Toms River",
         "Cleats"
        ],
        [
         "Tonawanda",
         "Cleats"
        ],
        [
         "Tracy",
         "Cleats"
        ],
        [
         "Tracy",
         "Fishing"
        ],
        [
         "Troy",
         "Women's Apparel"
        ],
        [
         "Trujillo Alto",
         "Indoor/Outdoor Games"
        ],
        [
         "Trujillo Alto",
         "Cleats"
        ],
        [
         "Tucson",
         "Cleats"
        ],
        [
         "Tulare",
         "Cleats"
        ],
        [
         "Tustin",
         "Men's Footwear"
        ],
        [
         "Union",
         "Women's Apparel"
        ],
        [
         "Union City",
         "Women's Apparel"
        ],
        [
         "Upland",
         "Cleats"
        ],
        [
         "Vacaville",
         "Men's Footwear"
        ],
        [
         "Vallejo",
         "Women's Apparel"
        ],
        [
         "Valrico",
         "Men's Footwear"
        ],
        [
         "Van Nuys",
         "Men's Footwear"
        ],
        [
         "Vega Baja",
         "Indoor/Outdoor Games"
        ],
        [
         "Ventura",
         "Cleats"
        ],
        [
         "Victorville",
         "Cleats"
        ],
        [
         "Virginia Beach",
         "Women's Apparel"
        ],
        [
         "Visalia",
         "Men's Footwear"
        ],
        [
         "Vista",
         "Cleats"
        ],
        [
         "Waipahu",
         "Men's Footwear"
        ],
        [
         "Walnut",
         "Cleats"
        ],
        [
         "Warren",
         "Cleats"
        ],
        [
         "Washington",
         "Cleats"
        ],
        [
         "Watsonville",
         "Cleats"
        ],
        [
         "Waukegan",
         "Cleats"
        ],
        [
         "Wayne",
         "Cleats"
        ],
        [
         "Webster",
         "Cleats"
        ],
        [
         "Weslaco",
         "Men's Footwear"
        ],
        [
         "West Chester",
         "Cleats"
        ],
        [
         "West Covina",
         "Cleats"
        ],
        [
         "West Haven",
         "Men's Footwear"
        ],
        [
         "West Jordan",
         "Men's Footwear"
        ],
        [
         "West Lafayette",
         "Cleats"
        ],
        [
         "West New York",
         "Cleats"
        ],
        [
         "West New York",
         "Men's Footwear"
        ],
        [
         "West Orange",
         "Women's Apparel"
        ],
        [
         "West Orange",
         "Men's Footwear"
        ],
        [
         "Westerville",
         "Men's Footwear"
        ],
        [
         "Westland",
         "Water Sports"
        ],
        [
         "Westminster",
         "Indoor/Outdoor Games"
        ],
        [
         "Wheaton",
         "Men's Footwear"
        ],
        [
         "Wheeling",
         "Women's Apparel"
        ],
        [
         "Wheeling",
         "Water Sports"
        ],
        [
         "Wheeling",
         "Cleats"
        ],
        [
         "Wichita",
         "Indoor/Outdoor Games"
        ],
        [
         "Wilkes Barre",
         "Women's Apparel"
        ],
        [
         "Williamsport",
         "Fishing"
        ],
        [
         "Williamsport",
         "Cleats"
        ],
        [
         "Wilmington",
         "Fishing"
        ],
        [
         "Winnetka",
         "Cleats"
        ],
        [
         "Winter Park",
         "Cleats"
        ],
        [
         "Winter Park",
         "Men's Footwear"
        ],
        [
         "Woodbridge",
         "Men's Footwear"
        ],
        [
         "Woodside",
         "Men's Footwear"
        ],
        [
         "Woonsocket",
         "Cleats"
        ],
        [
         "Wyandotte",
         "Cleats"
        ],
        [
         "Wyoming",
         "Cleats"
        ],
        [
         "Yauco",
         "Cleats"
        ],
        [
         "Yonkers",
         "Cleats"
        ],
        [
         "York",
         "Cleats"
        ],
        [
         "Ypsilanti",
         "Indoor/Outdoor Games"
        ],
        [
         "Yuma",
         "Cleats"
        ],
        [
         "Zanesville",
         "Women's Apparel"
        ]
       ],
       "datasetInfos": [],
       "dbfsResultPath": null,
       "isJsonSchema": true,
       "metadata": {},
       "overflow": false,
       "plotOptions": {
        "customPlotOptions": {},
        "displayType": "table",
        "pivotAggregation": null,
        "pivotColumns": null,
        "xColumns": null,
        "yColumns": null
       },
       "removedWidgets": [],
       "schema": [
        {
         "metadata": "{}",
         "name": "customer_city",
         "type": "\"string\""
        },
        {
         "metadata": "{}",
         "name": "category_name",
         "type": "\"string\""
        }
       ],
       "type": "table"
      }
     },
     "output_type": "display_data"
    }
   ],
   "source": [
    "display(statement3)"
   ]
  },
  {
   "cell_type": "code",
   "execution_count": 0,
   "metadata": {
    "application/vnd.databricks.v1+cell": {
     "cellMetadata": {
      "byteLimit": 2048000,
      "rowLimit": 10000
     },
     "inputWidgets": {},
     "nuid": "51264842-cf7d-4eed-b5ba-25b58bcb674d",
     "showTitle": false,
     "title": ""
    }
   },
   "outputs": [],
   "source": [
    "statement3.write.mode(\"overwrite\").format(\"delta\").save(f\"{silver_path}/statement3\")"
   ]
  },
  {
   "cell_type": "code",
   "execution_count": 0,
   "metadata": {
    "application/vnd.databricks.v1+cell": {
     "cellMetadata": {
      "byteLimit": 2048000,
      "rowLimit": 10000
     },
     "inputWidgets": {},
     "nuid": "0c69c525-205f-4569-a799-280377c0d50a",
     "showTitle": false,
     "title": ""
    }
   },
   "outputs": [],
   "source": [
    "query = '''\n",
    "SELECT\n",
    "    customer_city, product_name, quantity, total\n",
    "FROM (\n",
    "    SELECT\n",
    "        customer_city, product_name,\n",
    "        sum(order_item_quantity) as quantity,\n",
    "        sum(order_item_subtotal) as total,\n",
    "        DENSE_RANK() OVER (PARTITION BY customer_city ORDER BY sum(order_item_quantity) DESC) as rank\n",
    "    FROM\n",
    "        delta.`{}/customers` as c\n",
    "    INNER JOIN\n",
    "        delta.`{}/orders` as o\n",
    "        ON c.customer_id = o.order_customer_id\n",
    "    INNER JOIN\n",
    "        delta.`{}/order_items` as oi\n",
    "        ON o.order_id = oi.order_item_order_id\n",
    "    INNER JOIN\n",
    "        delta.`{}/products` as p\n",
    "        ON oi.order_item_product_id = p.product_id\n",
    "    INNER JOIN\n",
    "        delta.`{}/categories` as ca\n",
    "        ON p.product_category_id = ca.category_id\n",
    "    GROUP BY\n",
    "        customer_city, product_name\n",
    ") t\n",
    "WHERE rank < 6\n",
    "ORDER BY quantity DESC\n",
    "'''.format(bronze_path, bronze_path, bronze_path, bronze_path, bronze_path)\n",
    "\n",
    "statement4 = spark.sql(query)"
   ]
  },
  {
   "cell_type": "code",
   "execution_count": 0,
   "metadata": {
    "application/vnd.databricks.v1+cell": {
     "cellMetadata": {
      "byteLimit": 2048000,
      "rowLimit": 10000
     },
     "inputWidgets": {},
     "nuid": "86133e65-ecc8-46c1-8715-ac239c250e30",
     "showTitle": false,
     "title": ""
    }
   },
   "outputs": [],
   "source": [
    "display(statement4)"
   ]
  },
  {
   "cell_type": "code",
   "execution_count": 0,
   "metadata": {
    "application/vnd.databricks.v1+cell": {
     "cellMetadata": {
      "byteLimit": 2048000,
      "rowLimit": 10000
     },
     "inputWidgets": {},
     "nuid": "b74db34a-c2a1-47c4-b3dc-ccb48d46bb9a",
     "showTitle": false,
     "title": ""
    }
   },
   "outputs": [],
   "source": [
    "statement4.write.mode(\"overwrite\").format(\"delta\").save(f\"{silver_path}/statement4\")\n"
   ]
  }
 ],
 "metadata": {
  "application/vnd.databricks.v1+notebook": {
   "dashboards": [],
   "language": "python",
   "notebookMetadata": {
    "pythonIndentUnit": 4
   },
   "notebookName": "Transform",
   "widgets": {}
  }
 },
 "nbformat": 4,
 "nbformat_minor": 0
}
